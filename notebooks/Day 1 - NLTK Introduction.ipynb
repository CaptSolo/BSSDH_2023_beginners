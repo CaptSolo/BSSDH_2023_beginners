{
 "cells": [
  {
   "cell_type": "markdown",
   "metadata": {
    "id": "KXReOs-4Kh7w"
   },
   "source": [
    "## Natural Language Toolkit (NLTK)\n",
    "\n",
    "**NLTK** is a leading platform for building Python programs to work with human language data. It provides easy-to-use interfaces to [over 50 corpora and lexical resources](http://www.nltk.org/nltk_data/) such as WordNet, along with a suite of text processing libraries for classification, tokenization, stemming, tagging, parsing, and semantic reasoning, wrappers for industrial-strength NLP libraries, and an active discussion forum.\n",
    "\n",
    "http://www.nltk.org/\n",
    "\n",
    "NLTK library documentation (reference) = *Use it to look up how to use a particular NLTK library function*\n",
    "* https://www.nltk.org/api/nltk.html\n",
    "\n",
    "---\n",
    "\n",
    "NLTK wiki (collaboratively edited documentation):\n",
    "* https://github.com/nltk/nltk/wiki"
   ]
  },
  {
   "cell_type": "markdown",
   "metadata": {
    "id": "3Q4oMz88Kh71"
   },
   "source": [
    "### Book: Natural Language Processing with Python \n",
    "\n",
    "NLTK book provides a practical introduction to programming for language processing.\n",
    "\n",
    "Written by the creators of NLTK, it guides the reader through the fundamentals of writing Python programs, working with corpora, categorizing text, analyzing linguistic structure, and more.\n",
    "\n",
    "Online: http://www.nltk.org/book/\n",
    "\n",
    "* we will start with Chapter 1: [\"Language Processing and Python\"](http://www.nltk.org/book/ch01.html)\n",
    "\n",
    "---"
   ]
  },
  {
   "cell_type": "code",
   "execution_count": 49,
   "metadata": {
    "id": "BrPrMZ4RKh72"
   },
   "outputs": [],
   "source": [
    "# configuration for the notebook \n",
    "# %matplotlib notebook"
   ]
  },
  {
   "cell_type": "markdown",
   "metadata": {
    "id": "c211Je63Kh73"
   },
   "source": [
    "## 1) Getting started\n",
    "\n",
    "NLTK book: http://www.nltk.org/book/ch01.html#getting-started-with-nltk\n",
    "\n",
    "* Loading NLTK (Python module)\n",
    "* Downloading NLTK language resources (corpora, ...)\n"
   ]
  },
  {
   "cell_type": "code",
   "execution_count": 50,
   "metadata": {
    "id": "P3wVnd6JKh73"
   },
   "outputs": [],
   "source": [
    "# In order to use a Python library, we need to import (load) it\n",
    "\n",
    "import nltk\n",
    "import pandas as pd # we will use it to read our data\n"
   ]
  },
  {
   "cell_type": "code",
   "execution_count": 51,
   "metadata": {
    "colab": {
     "base_uri": "https://localhost:8080/",
     "height": 35
    },
    "id": "IiDmy3H4Kh74",
    "outputId": "f70c25bd-cd9e-423c-a2cb-6c8540bccaf3"
   },
   "outputs": [
    {
     "data": {
      "text/plain": [
       "'3.8.1'"
      ]
     },
     "execution_count": 51,
     "metadata": {},
     "output_type": "execute_result"
    }
   ],
   "source": [
    "# Let's check what NLTK version we have (for easier troubleshooting and reproducibility)\n",
    "nltk.__version__"
   ]
  },
  {
   "cell_type": "code",
   "execution_count": 52,
   "metadata": {
    "id": "5oaNbYDwKh75"
   },
   "outputs": [],
   "source": [
    "# If your NLTK version is lower than 3.4.3 please update if possible.\n",
    "\n",
    "# Updating in Anaconda can be done using this command: \n",
    "# conda update nltk"
   ]
  },
  {
   "cell_type": "markdown",
   "metadata": {
    "id": "4P25KGyTKh76"
   },
   "source": [
    "### nltk.Text\n",
    "\n",
    "**`ntlk.Text` is a simple NLTK helper for loading and exploring textual content (a sequence of words / string tokens):**\n",
    "\n",
    "... intended to support initial exploration of texts (via the interactive console). It can perform a variety of analyses on the text’s contexts (e.g., counting, concordancing, collocation discovery), and display the results.\n",
    "\n",
    "Documentation: [nltk.Text](https://www.nltk.org/api/nltk.html#nltk.text.Text)\n",
    "* lists what we can do with text once it is loaded into nltk.Text(...)"
   ]
  },
  {
   "cell_type": "code",
   "execution_count": 53,
   "metadata": {
    "colab": {
     "base_uri": "https://localhost:8080/"
    },
    "id": "aGazEviJKh77",
    "outputId": "7f309be8-3086-49d2-e615-763111f2e39c"
   },
   "outputs": [
    {
     "data": {
      "text/plain": [
       "<Text: This is just an example Another example here...>"
      ]
     },
     "execution_count": 53,
     "metadata": {},
     "output_type": "execute_result"
    }
   ],
   "source": [
    "# Now we can try a simple example:\n",
    "\n",
    "my_word_list = [\"This\", \"is\", \"just\", \"an\", \"example\", \"Another\", \"example\", \"here\"]\n",
    "my_text = nltk.Text(my_word_list)\n",
    "\n",
    "my_text"
   ]
  },
  {
   "cell_type": "code",
   "execution_count": 54,
   "metadata": {
    "colab": {
     "base_uri": "https://localhost:8080/"
    },
    "id": "qTbrL4BbN5A_",
    "outputId": "4b2db18d-9fd1-4df6-ce0a-06a9351941ab"
   },
   "outputs": [
    {
     "data": {
      "text/plain": [
       "<Text: This is just an example Another example here...>"
      ]
     },
     "execution_count": 54,
     "metadata": {},
     "output_type": "execute_result"
    }
   ],
   "source": [
    "my_text"
   ]
  },
  {
   "cell_type": "code",
   "execution_count": 55,
   "metadata": {
    "colab": {
     "base_uri": "https://localhost:8080/"
    },
    "id": "LInOevQ9Kh77",
    "outputId": "57560680-1aea-4823-f62e-014446c4c742"
   },
   "outputs": [
    {
     "data": {
      "text/plain": [
       "nltk.text.Text"
      ]
     },
     "execution_count": 55,
     "metadata": {},
     "output_type": "execute_result"
    }
   ],
   "source": [
    "type(my_text)"
   ]
  },
  {
   "cell_type": "code",
   "execution_count": 56,
   "metadata": {
    "colab": {
     "base_uri": "https://localhost:8080/"
    },
    "id": "cGs9PFIfKh78",
    "outputId": "bdb103a1-206e-4054-af2b-4ee3a38ec0ab"
   },
   "outputs": [
    {
     "data": {
      "text/plain": [
       "2"
      ]
     },
     "execution_count": 56,
     "metadata": {},
     "output_type": "execute_result"
    }
   ],
   "source": [
    "# How many times does the word \"example\" appear?\n",
    "my_text.count(\"example\")\n",
    "\n",
    "# Notes:\n",
    "#  - my_text = our text, processed (loaded) by NLTK\n",
    "#     - technically: a Python object\n",
    "#  - my_text.count(...) = requesting the object to perform a .count(...) function and return the result\n",
    "#     - technically: calling a .count() method"
   ]
  },
  {
   "cell_type": "code",
   "execution_count": 57,
   "metadata": {
    "colab": {
     "base_uri": "https://localhost:8080/"
    },
    "id": "VB6V_3NjKh78",
    "outputId": "05d8b353-4eba-45ab-a4e0-faab9c719572"
   },
   "outputs": [
    {
     "data": {
      "text/plain": [
       "0"
      ]
     },
     "execution_count": 57,
     "metadata": {},
     "output_type": "execute_result"
    }
   ],
   "source": [
    "# count works on tokens (full words in this case)\n",
    "my_text.count('exam')"
   ]
  },
  {
   "cell_type": "code",
   "execution_count": 58,
   "metadata": {
    "colab": {
     "base_uri": "https://localhost:8080/"
    },
    "id": "xJRLD4ZHKh78",
    "outputId": "10c906c4-366f-4400-bded-5caa18918025"
   },
   "outputs": [
    {
     "data": {
      "text/plain": [
       "False"
      ]
     },
     "execution_count": 58,
     "metadata": {},
     "output_type": "execute_result"
    }
   ],
   "source": [
    "'exam' in my_text"
   ]
  },
  {
   "cell_type": "code",
   "execution_count": 59,
   "metadata": {
    "colab": {
     "base_uri": "https://localhost:8080/"
    },
    "id": "NUHVkUsAKh79",
    "outputId": "b3b10749-0047-496e-ff04-afffbb448047"
   },
   "outputs": [
    {
     "data": {
      "text/plain": [
       "True"
      ]
     },
     "execution_count": 59,
     "metadata": {},
     "output_type": "execute_result"
    }
   ],
   "source": [
    "'example' in my_text"
   ]
  },
  {
   "cell_type": "markdown",
   "metadata": {
    "id": "AnPc8tWVKh79"
   },
   "source": [
    "### Tokenizing\n",
    "\n",
    "Let's convert a text string into nltk.Text.\n",
    "First, we need to split it into tokens (to *tokenize* it). "
   ]
  },
  {
   "cell_type": "code",
   "execution_count": 60,
   "metadata": {
    "colab": {
     "base_uri": "https://localhost:8080/"
    },
    "id": "NkzEe21WKh79",
    "outputId": "ebf7681f-f6c8-4ac5-cfc0-6d5ae6c85bd7"
   },
   "outputs": [
    {
     "name": "stderr",
     "output_type": "stream",
     "text": [
      "[nltk_data] Downloading package punkt to /Users/captsolo/nltk_data...\n",
      "[nltk_data]   Package punkt is already up-to-date!\n"
     ]
    },
    {
     "data": {
      "text/plain": [
       "True"
      ]
     },
     "execution_count": 60,
     "metadata": {},
     "output_type": "execute_result"
    }
   ],
   "source": [
    "# We need to download a package containing punctuation before we can tokenize\n",
    "import nltk # we already have this so no need to import it\n",
    "nltk.download('punkt')"
   ]
  },
  {
   "cell_type": "code",
   "execution_count": 61,
   "metadata": {
    "colab": {
     "base_uri": "https://localhost:8080/"
    },
    "id": "jv1T6GloKh7-",
    "outputId": "e86c77fe-4dc9-43fa-b615-d06c49666436"
   },
   "outputs": [
    {
     "data": {
      "text/plain": [
       "['NLTK', 'has', 'been', 'called', '“', 'a']"
      ]
     },
     "execution_count": 61,
     "metadata": {},
     "output_type": "execute_result"
    }
   ],
   "source": [
    "# Splitting text into tokens (words, ...) = tokenizing\n",
    "\n",
    "from nltk.tokenize import word_tokenize\n",
    "\n",
    "excerpt = \"NLTK has been called “a wonderful tool for teaching, and working in, computational linguistics using Python,” and “an amazing library to play with natural language.”\"\n",
    "tokens = word_tokenize(excerpt)\n",
    "\n",
    "tokens[:6]"
   ]
  },
  {
   "cell_type": "code",
   "execution_count": null,
   "metadata": {
    "colab": {
     "base_uri": "https://localhost:8080/"
    },
    "id": "6SLsB1DtPD78",
    "outputId": "1640556f-1b2d-4de1-c45b-c708eca147da"
   },
   "outputs": [],
   "source": []
  },
  {
   "cell_type": "code",
   "execution_count": 62,
   "metadata": {
    "colab": {
     "base_uri": "https://localhost:8080/"
    },
    "id": "r6pxVMxTKh7-",
    "outputId": "4927a6d8-64b9-411c-c2fd-733c419bf5e7"
   },
   "outputs": [
    {
     "name": "stdout",
     "output_type": "stream",
     "text": [
      "1\n"
     ]
    }
   ],
   "source": [
    "my_text2 = nltk.Text(tokens)\n",
    "\n",
    "print(my_text2.count(\"NLTK\"))"
   ]
  },
  {
   "cell_type": "code",
   "execution_count": 63,
   "metadata": {
    "colab": {
     "base_uri": "https://localhost:8080/"
    },
    "id": "2EHoT6sWPPVx",
    "outputId": "6f2c8642-6f7a-4e29-cbc1-51fd4302fd98"
   },
   "outputs": [
    {
     "data": {
      "text/plain": [
       "['NLTK',\n",
       " 'has',\n",
       " 'been',\n",
       " 'called',\n",
       " '“',\n",
       " 'a',\n",
       " 'wonderful',\n",
       " 'tool',\n",
       " 'for',\n",
       " 'teaching',\n",
       " ',',\n",
       " 'and',\n",
       " 'working',\n",
       " 'in',\n",
       " ',',\n",
       " 'computational',\n",
       " 'linguistics',\n",
       " 'using',\n",
       " 'Python',\n",
       " ',',\n",
       " '”',\n",
       " 'and',\n",
       " '“',\n",
       " 'an',\n",
       " 'amazing',\n",
       " 'library',\n",
       " 'to',\n",
       " 'play',\n",
       " 'with',\n",
       " 'natural',\n",
       " 'language',\n",
       " '.',\n",
       " '”']"
      ]
     },
     "execution_count": 63,
     "metadata": {},
     "output_type": "execute_result"
    }
   ],
   "source": [
    "list(my_text2)\n"
   ]
  },
  {
   "cell_type": "code",
   "execution_count": 64,
   "metadata": {
    "id": "VP-_j2BkPjJ0"
   },
   "outputs": [],
   "source": [
    "excerpt = \"NLTK has been called... more text here\"\n",
    "tokens = word_tokenize(excerpt)"
   ]
  },
  {
   "cell_type": "code",
   "execution_count": 65,
   "metadata": {
    "colab": {
     "base_uri": "https://localhost:8080/"
    },
    "id": "IGttNhGuPv65",
    "outputId": "9cc86d42-ebda-499f-8696-b5fd212590c4"
   },
   "outputs": [
    {
     "data": {
      "text/plain": [
       "['NLTK', 'has', 'been', 'called', '...', 'more', 'text', 'here']"
      ]
     },
     "execution_count": 65,
     "metadata": {},
     "output_type": "execute_result"
    }
   ],
   "source": [
    "tokens"
   ]
  },
  {
   "cell_type": "markdown",
   "metadata": {
    "id": "QWmCHfY6Kh7-"
   },
   "source": [
    "### Downloading NLTK language resources\n",
    "\n",
    "NLTK also contains many language resources (corpora, ...) but you have select and download them separately (in order to save disk space and only download what is needed).\n",
    "\n",
    "Let's download text collections used in the NLTK book: \n",
    "* `nltk.download(\"book\")`\n",
    "\n",
    "Note: you can also download resources interactively:\n",
    "* `nltk.download()`"
   ]
  },
  {
   "cell_type": "code",
   "execution_count": 66,
   "metadata": {
    "colab": {
     "base_uri": "https://localhost:8080/"
    },
    "id": "FUvRRRMBKh7-",
    "outputId": "33e61ccc-a8dc-4703-bd77-a0223a6db342"
   },
   "outputs": [
    {
     "name": "stderr",
     "output_type": "stream",
     "text": [
      "[nltk_data] Downloading collection 'book'\n",
      "[nltk_data]    | \n",
      "[nltk_data]    | Downloading package abc to\n",
      "[nltk_data]    |     /Users/captsolo/nltk_data...\n",
      "[nltk_data]    |   Package abc is already up-to-date!\n",
      "[nltk_data]    | Downloading package brown to\n",
      "[nltk_data]    |     /Users/captsolo/nltk_data...\n",
      "[nltk_data]    |   Package brown is already up-to-date!\n",
      "[nltk_data]    | Downloading package chat80 to\n",
      "[nltk_data]    |     /Users/captsolo/nltk_data...\n",
      "[nltk_data]    |   Package chat80 is already up-to-date!\n",
      "[nltk_data]    | Downloading package cmudict to\n",
      "[nltk_data]    |     /Users/captsolo/nltk_data...\n",
      "[nltk_data]    |   Package cmudict is already up-to-date!\n",
      "[nltk_data]    | Downloading package conll2000 to\n",
      "[nltk_data]    |     /Users/captsolo/nltk_data...\n",
      "[nltk_data]    |   Package conll2000 is already up-to-date!\n",
      "[nltk_data]    | Downloading package conll2002 to\n",
      "[nltk_data]    |     /Users/captsolo/nltk_data...\n",
      "[nltk_data]    |   Package conll2002 is already up-to-date!\n",
      "[nltk_data]    | Downloading package dependency_treebank to\n",
      "[nltk_data]    |     /Users/captsolo/nltk_data...\n",
      "[nltk_data]    |   Package dependency_treebank is already up-to-date!\n",
      "[nltk_data]    | Downloading package genesis to\n",
      "[nltk_data]    |     /Users/captsolo/nltk_data...\n",
      "[nltk_data]    |   Package genesis is already up-to-date!\n",
      "[nltk_data]    | Downloading package gutenberg to\n",
      "[nltk_data]    |     /Users/captsolo/nltk_data...\n",
      "[nltk_data]    |   Package gutenberg is already up-to-date!\n",
      "[nltk_data]    | Downloading package ieer to\n",
      "[nltk_data]    |     /Users/captsolo/nltk_data...\n",
      "[nltk_data]    |   Package ieer is already up-to-date!\n",
      "[nltk_data]    | Downloading package inaugural to\n",
      "[nltk_data]    |     /Users/captsolo/nltk_data...\n",
      "[nltk_data]    |   Package inaugural is already up-to-date!\n",
      "[nltk_data]    | Downloading package movie_reviews to\n",
      "[nltk_data]    |     /Users/captsolo/nltk_data...\n",
      "[nltk_data]    |   Package movie_reviews is already up-to-date!\n",
      "[nltk_data]    | Downloading package nps_chat to\n",
      "[nltk_data]    |     /Users/captsolo/nltk_data...\n",
      "[nltk_data]    |   Package nps_chat is already up-to-date!\n",
      "[nltk_data]    | Downloading package names to\n",
      "[nltk_data]    |     /Users/captsolo/nltk_data...\n",
      "[nltk_data]    |   Package names is already up-to-date!\n",
      "[nltk_data]    | Downloading package ppattach to\n",
      "[nltk_data]    |     /Users/captsolo/nltk_data...\n",
      "[nltk_data]    |   Package ppattach is already up-to-date!\n",
      "[nltk_data]    | Downloading package reuters to\n",
      "[nltk_data]    |     /Users/captsolo/nltk_data...\n",
      "[nltk_data]    |   Package reuters is already up-to-date!\n",
      "[nltk_data]    | Downloading package senseval to\n",
      "[nltk_data]    |     /Users/captsolo/nltk_data...\n",
      "[nltk_data]    |   Package senseval is already up-to-date!\n",
      "[nltk_data]    | Downloading package state_union to\n",
      "[nltk_data]    |     /Users/captsolo/nltk_data...\n",
      "[nltk_data]    |   Package state_union is already up-to-date!\n",
      "[nltk_data]    | Downloading package stopwords to\n",
      "[nltk_data]    |     /Users/captsolo/nltk_data...\n",
      "[nltk_data]    |   Package stopwords is already up-to-date!\n",
      "[nltk_data]    | Downloading package swadesh to\n",
      "[nltk_data]    |     /Users/captsolo/nltk_data...\n",
      "[nltk_data]    |   Package swadesh is already up-to-date!\n",
      "[nltk_data]    | Downloading package timit to\n",
      "[nltk_data]    |     /Users/captsolo/nltk_data...\n",
      "[nltk_data]    |   Package timit is already up-to-date!\n",
      "[nltk_data]    | Downloading package treebank to\n",
      "[nltk_data]    |     /Users/captsolo/nltk_data...\n",
      "[nltk_data]    |   Package treebank is already up-to-date!\n",
      "[nltk_data]    | Downloading package toolbox to\n",
      "[nltk_data]    |     /Users/captsolo/nltk_data...\n",
      "[nltk_data]    |   Package toolbox is already up-to-date!\n",
      "[nltk_data]    | Downloading package udhr to\n",
      "[nltk_data]    |     /Users/captsolo/nltk_data...\n",
      "[nltk_data]    |   Package udhr is already up-to-date!\n",
      "[nltk_data]    | Downloading package udhr2 to\n",
      "[nltk_data]    |     /Users/captsolo/nltk_data...\n",
      "[nltk_data]    |   Package udhr2 is already up-to-date!\n",
      "[nltk_data]    | Downloading package unicode_samples to\n",
      "[nltk_data]    |     /Users/captsolo/nltk_data...\n",
      "[nltk_data]    |   Package unicode_samples is already up-to-date!\n",
      "[nltk_data]    | Downloading package webtext to\n",
      "[nltk_data]    |     /Users/captsolo/nltk_data...\n",
      "[nltk_data]    |   Package webtext is already up-to-date!\n",
      "[nltk_data]    | Downloading package wordnet to\n",
      "[nltk_data]    |     /Users/captsolo/nltk_data...\n",
      "[nltk_data]    |   Package wordnet is already up-to-date!\n",
      "[nltk_data]    | Downloading package wordnet_ic to\n",
      "[nltk_data]    |     /Users/captsolo/nltk_data...\n",
      "[nltk_data]    |   Package wordnet_ic is already up-to-date!\n",
      "[nltk_data]    | Downloading package words to\n",
      "[nltk_data]    |     /Users/captsolo/nltk_data...\n",
      "[nltk_data]    |   Package words is already up-to-date!\n",
      "[nltk_data]    | Downloading package maxent_treebank_pos_tagger to\n",
      "[nltk_data]    |     /Users/captsolo/nltk_data...\n",
      "[nltk_data]    |   Package maxent_treebank_pos_tagger is already up-\n",
      "[nltk_data]    |       to-date!\n",
      "[nltk_data]    | Downloading package maxent_ne_chunker to\n",
      "[nltk_data]    |     /Users/captsolo/nltk_data...\n",
      "[nltk_data]    |   Package maxent_ne_chunker is already up-to-date!\n",
      "[nltk_data]    | Downloading package universal_tagset to\n",
      "[nltk_data]    |     /Users/captsolo/nltk_data...\n",
      "[nltk_data]    |   Package universal_tagset is already up-to-date!\n",
      "[nltk_data]    | Downloading package punkt to\n",
      "[nltk_data]    |     /Users/captsolo/nltk_data...\n",
      "[nltk_data]    |   Package punkt is already up-to-date!\n",
      "[nltk_data]    | Downloading package book_grammars to\n",
      "[nltk_data]    |     /Users/captsolo/nltk_data...\n",
      "[nltk_data]    |   Package book_grammars is already up-to-date!\n",
      "[nltk_data]    | Downloading package city_database to\n",
      "[nltk_data]    |     /Users/captsolo/nltk_data...\n",
      "[nltk_data]    |   Package city_database is already up-to-date!\n",
      "[nltk_data]    | Downloading package tagsets to\n",
      "[nltk_data]    |     /Users/captsolo/nltk_data...\n",
      "[nltk_data]    |   Package tagsets is already up-to-date!\n",
      "[nltk_data]    | Downloading package panlex_swadesh to\n",
      "[nltk_data]    |     /Users/captsolo/nltk_data...\n",
      "[nltk_data]    |   Package panlex_swadesh is already up-to-date!\n",
      "[nltk_data]    | Downloading package averaged_perceptron_tagger to\n",
      "[nltk_data]    |     /Users/captsolo/nltk_data...\n",
      "[nltk_data]    |   Package averaged_perceptron_tagger is already up-\n",
      "[nltk_data]    |       to-date!\n",
      "[nltk_data]    | \n",
      "[nltk_data]  Done downloading collection book\n"
     ]
    },
    {
     "data": {
      "text/plain": [
       "True"
      ]
     },
     "execution_count": 66,
     "metadata": {},
     "output_type": "execute_result"
    }
   ],
   "source": [
    "# this is a big download of all book packages\n",
    "nltk.download(\"book\")"
   ]
  },
  {
   "cell_type": "code",
   "execution_count": 67,
   "metadata": {
    "colab": {
     "base_uri": "https://localhost:8080/"
    },
    "id": "nVTBPUs1Kh7_",
    "outputId": "2f0be272-159d-4de6-98df-264a784ce99e"
   },
   "outputs": [],
   "source": [
    "# After downloading the reources we still need to import them\n",
    "\n",
    "# Let's import all NLTK book resource (*)\n",
    "from nltk.book import *"
   ]
  },
  {
   "cell_type": "markdown",
   "metadata": {
    "id": "9EwcXQNvKh7_"
   },
   "source": [
    "## 2) Exploring textual content"
   ]
  },
  {
   "cell_type": "code",
   "execution_count": 68,
   "metadata": {
    "colab": {
     "base_uri": "https://localhost:8080/"
    },
    "id": "ECtX8fzqKh7_",
    "outputId": "e68592d6-f2aa-4e9d-cb63-7f7fe4fa1c6e"
   },
   "outputs": [
    {
     "data": {
      "text/plain": [
       "nltk.text.Text"
      ]
     },
     "execution_count": 68,
     "metadata": {},
     "output_type": "execute_result"
    }
   ],
   "source": [
    "# text1, ... resources are of type nltk.Text (same as in the earlier example):\n",
    "\n",
    "type(text1)"
   ]
  },
  {
   "cell_type": "code",
   "execution_count": 69,
   "metadata": {
    "colab": {
     "base_uri": "https://localhost:8080/"
    },
    "id": "u-HDe1sZKh7_",
    "outputId": "31b876e6-8007-4c7f-f0e1-f03e399a64bf"
   },
   "outputs": [
    {
     "name": "stdout",
     "output_type": "stream",
     "text": [
      "906\n"
     ]
    }
   ],
   "source": [
    "# We can run all methods that nltk.Text has.\n",
    "\n",
    "# Count words:\n",
    "print(text1.count(\"whale\"))"
   ]
  },
  {
   "cell_type": "code",
   "execution_count": 70,
   "metadata": {
    "colab": {
     "base_uri": "https://localhost:8080/"
    },
    "id": "oBdyd_r1Kh7_",
    "outputId": "2b241f36-0f15-4d88-8be4-3d0f45cf8213"
   },
   "outputs": [
    {
     "name": "stdout",
     "output_type": "stream",
     "text": [
      "Displaying 7 of 7 matches:\n",
      "cean , in order , if possible , to discover a passage through it to India , th\n",
      " throw at the whales , in order to discover when they were nigh enough to risk\n",
      "for ever reach new distances , and discover sights more sweet and strange than\n",
      "gs upon the plain , you will often discover images as of the petrified forms o\n",
      " over numberless unknown worlds to discover his one superficial western one ; \n",
      "se two heads for hours , and never discover that organ . The ear has no extern\n",
      "s keener than man ' s ; Ahab could discover no sign in the sea . But suddenly \n"
     ]
    }
   ],
   "source": [
    "# https://www.nltk.org/api/nltk.html#nltk.text.Text.concordance\n",
    "\n",
    "# Print concordance view (occurences of a word, in context):\n",
    "text1.concordance(\"discover\")"
   ]
  },
  {
   "cell_type": "code",
   "execution_count": 71,
   "metadata": {
    "colab": {
     "base_uri": "https://localhost:8080/"
    },
    "id": "BAd3tH8sKh8A",
    "outputId": "92b96d2f-ca73-4976-d73f-4b7d0a11a101"
   },
   "outputs": [
    {
     "name": "stdout",
     "output_type": "stream",
     "text": [
      "Displaying 25 of 330 matches:\n",
      " to the character of an independent nation seems to have been distinguished by\n",
      "f Heaven can never be expected on a nation that disregards the eternal rules o\n",
      "first , the representatives of this nation , then consisting of little more th\n",
      ", situation , and relations of this nation and country than any which had ever\n",
      ", prosperity , and happiness of the nation I have acquired an habitual attachm\n",
      "an be no spectacle presented by any nation more pleasing , more noble , majest\n",
      "party for its own ends , not of the nation for the national good . If that sol\n",
      "tures and the people throughout the nation . On this subject it might become m\n",
      "if a personal esteem for the French nation , formed in a residence of seven ye\n",
      "f our fellow - citizens by whatever nation , and if success can not be obtaine\n",
      "y , continue His blessing upon this nation and its Government and give it all \n",
      "powers so justly inspire . A rising nation , spread over a wide and fruitful l\n",
      "ing now decided by the voice of the nation , announced according to the rules \n",
      "ars witness to the fact that a just nation is trusted on its word when recours\n",
      "e union of opinion which gives to a nation the blessing of harmony and the ben\n",
      "uil suffrage of a free and virtuous nation , would under any circumstances hav\n",
      "d spirit and united councils of the nation will be safeguards to its honor and\n",
      "iction that the war with a powerful nation , which forms so prominent a featur\n",
      "out breaking down the spirit of the nation , destroying all confidence in itse\n",
      "ed on the military resources of the nation . These resources are amply suffici\n",
      "the war to an honorable issue . Our nation is in number more than half that of\n",
      "ndividually have been happy and the nation prosperous . Under this Constitutio\n",
      "rights , and is able to protect the nation against injustice from foreign powe\n",
      " great agricultural interest of the nation prospers under its protection . Loc\n",
      "ak our Union , and demolish us as a nation . Our distance from Europe and the \n"
     ]
    }
   ],
   "source": [
    "text4.concordance(\"nation\")"
   ]
  },
  {
   "cell_type": "code",
   "execution_count": 72,
   "metadata": {
    "colab": {
     "base_uri": "https://localhost:8080/"
    },
    "id": "mgUMyqtEQxPM",
    "outputId": "482fcda1-1767-4f79-bcee-20b2d5b2122d"
   },
   "outputs": [
    {
     "name": "stdout",
     "output_type": "stream",
     "text": [
      "Displaying 50 of 330 matches:\n",
      " to the character of an independent nation seems to have been distinguished by\n",
      "f Heaven can never be expected on a nation that disregards the eternal rules o\n",
      "first , the representatives of this nation , then consisting of little more th\n",
      ", situation , and relations of this nation and country than any which had ever\n",
      ", prosperity , and happiness of the nation I have acquired an habitual attachm\n",
      "an be no spectacle presented by any nation more pleasing , more noble , majest\n",
      "party for its own ends , not of the nation for the national good . If that sol\n",
      "tures and the people throughout the nation . On this subject it might become m\n",
      "if a personal esteem for the French nation , formed in a residence of seven ye\n",
      "f our fellow - citizens by whatever nation , and if success can not be obtaine\n",
      "y , continue His blessing upon this nation and its Government and give it all \n",
      "powers so justly inspire . A rising nation , spread over a wide and fruitful l\n",
      "ing now decided by the voice of the nation , announced according to the rules \n",
      "ars witness to the fact that a just nation is trusted on its word when recours\n",
      "e union of opinion which gives to a nation the blessing of harmony and the ben\n",
      "uil suffrage of a free and virtuous nation , would under any circumstances hav\n",
      "d spirit and united councils of the nation will be safeguards to its honor and\n",
      "iction that the war with a powerful nation , which forms so prominent a featur\n",
      "out breaking down the spirit of the nation , destroying all confidence in itse\n",
      "ed on the military resources of the nation . These resources are amply suffici\n",
      "the war to an honorable issue . Our nation is in number more than half that of\n",
      "ndividually have been happy and the nation prosperous . Under this Constitutio\n",
      "rights , and is able to protect the nation against injustice from foreign powe\n",
      " great agricultural interest of the nation prospers under its protection . Loc\n",
      "ak our Union , and demolish us as a nation . Our distance from Europe and the \n",
      "stration . The movements of a great nation are connected in all their parts . \n",
      "oncluded a war with a very powerful nation on conditions equal and honorable t\n",
      "oon as the war had terminated , the nation , admonished by its events , resolv\n",
      "ct of the highest importance to the nation . Its agriculture , commerce , manu\n",
      "y affect the vital interests of the nation . For all such purposes they are in\n",
      "a certain extent the demands of the nation , without relying altogether on the\n",
      " I may add , on the justice of this nation which we must all feel . We should \n",
      "ransitory existence . In this great nation there is but one order , that of th\n",
      "trious benefactors of their age and nation . It has promoted the lasting welfa\n",
      "ed the conflict of parties till the nation was involved in war and the Union w\n",
      " of the common concerns of a mighty nation , those doubts have been dispelled \n",
      "angerous attachments to one foreign nation and antipathies against another , t\n",
      "e by the individuals throughout the nation who have heretofore followed the st\n",
      "ernment and the rights of the whole nation in that of the Union . Whatsoever i\n",
      " of each other . The harmony of the nation is promoted and the whole Union is \n",
      "n to all the great interests of the nation ; to promote the civilization of th\n",
      "the forbearance becoming a powerful nation rather than the sensibility belongi\n",
      "exception , the friendship of every nation ; at home , while our Government qu\n",
      "utive office of this great and free nation , I appear before you , fellow - ci\n",
      "currence of the general will of the nation ,\" as affording to the President su\n",
      "ch for certain purposes compose one nation are much more so , for no such nati\n",
      "tion are much more so , for no such nation can long exist without the careful \n",
      "happily subsists with every foreign nation , and that although , of course , n\n",
      "r be sacrificed or the honor of the nation tarnished by any admission on the p\n",
      "f justice on the part of a powerful nation in its transactions with a weaker a\n"
     ]
    }
   ],
   "source": [
    "text4.concordance(\"nation\", lines=50)"
   ]
  },
  {
   "cell_type": "code",
   "execution_count": 73,
   "metadata": {
    "colab": {
     "base_uri": "https://localhost:8080/"
    },
    "id": "7DaGeHZYKh8A",
    "outputId": "ee94c713-7cf9-4bc0-fae9-69c13a657cdd",
    "scrolled": true
   },
   "outputs": [
    {
     "name": "stdout",
     "output_type": "stream",
     "text": [
      "country people government world union time constitution states\n",
      "republic land law earth other future party peace strength president\n",
      "way war\n"
     ]
    }
   ],
   "source": [
    "# https://www.nltk.org/api/nltk.html#nltk.text.Text.similar\n",
    "\n",
    "# Print words that appear in similar context as \"nation\".\n",
    "text4.similar(\"nation\")"
   ]
  },
  {
   "cell_type": "code",
   "execution_count": 74,
   "metadata": {
    "colab": {
     "base_uri": "https://localhost:8080/"
    },
    "id": "RChhUPlDKh8A",
    "outputId": "56ee4bd7-a900-4a40-dca6-a5bab6b1879b"
   },
   "outputs": [
    {
     "name": "stdout",
     "output_type": "stream",
     "text": [
      "that_, the_, by_, a_, that_; the_previous -_, one_, all_. the_before\n",
      "every_, by_or of_; of_. the_. this_in all_in after_, the_wore\n",
      "through_into\n"
     ]
    }
   ],
   "source": [
    "# https://www.nltk.org/api/nltk.html#nltk.text.Text.common_contexts\n",
    "\n",
    "# Find contexts common to all given words\n",
    "text1.common_contexts([\"day\", \"night\"])\n"
   ]
  },
  {
   "cell_type": "markdown",
   "metadata": {
    "id": "ZjH8eEJ6Kh8A"
   },
   "source": [
    "### Side note: Python lists\n",
    "\n",
    "A *list* contains multiple values in an ordered sequence.\n",
    "\n",
    "More about Python lists:\n",
    "* https://automatetheboringstuff.com/chapter4/"
   ]
  },
  {
   "cell_type": "code",
   "execution_count": 75,
   "metadata": {
    "colab": {
     "base_uri": "https://localhost:8080/"
    },
    "id": "cbwda6BlKh8A",
    "outputId": "77ac1711-ca0e-45ca-c420-118d3e3cfe64"
   },
   "outputs": [
    {
     "name": "stdout",
     "output_type": "stream",
     "text": [
      "42\n"
     ]
    }
   ],
   "source": [
    "# nltk.Text is also a list - can do everything we can do with lists (access parts of it, ...)\n",
    "\n",
    "# What's the 1st occurence of \"He\" in the text?\n",
    "#  - note: Python is case sensitive (unless you take care of it - e.g. convert all text to lowercase)\n",
    "\n",
    "print(text1.index(\"He\"))"
   ]
  },
  {
   "cell_type": "code",
   "execution_count": 76,
   "metadata": {
    "colab": {
     "base_uri": "https://localhost:8080/"
    },
    "id": "ExM81vXJKh8A",
    "outputId": "3594b111-5f6c-4af0-d629-b91cd7bb55f4"
   },
   "outputs": [
    {
     "name": "stdout",
     "output_type": "stream",
     "text": [
      "He\n"
     ]
    }
   ],
   "source": [
    "# The word at position #42\n",
    "#  - note: list indexes start from 0\n",
    "\n",
    "print(text1[42])"
   ]
  },
  {
   "cell_type": "code",
   "execution_count": 77,
   "metadata": {
    "colab": {
     "base_uri": "https://localhost:8080/"
    },
    "id": "drMJLukzKh8C",
    "outputId": "e106861c-d7e9-4f8b-c9cb-ed6516c56800"
   },
   "outputs": [
    {
     "name": "stdout",
     "output_type": "stream",
     "text": [
      "['He', 'was', 'ever', 'dusting', 'his', 'old', 'lexicons', 'and', 'grammars', ',']\n"
     ]
    }
   ],
   "source": [
    "print(text1[42:52])"
   ]
  },
  {
   "cell_type": "markdown",
   "metadata": {
    "id": "z2nrOBZjKh8C"
   },
   "source": [
    "## Further exploration\n",
    "\n",
    "* Dispersion plots (distribution of words throughout the text)\n",
    "* Generating text (based on example)\n",
    "\n",
    "### Visualizing the corpus"
   ]
  },
  {
   "cell_type": "code",
   "execution_count": 78,
   "metadata": {
    "colab": {
     "base_uri": "https://localhost:8080/",
     "height": 295
    },
    "id": "cPtzGbhGKh8C",
    "outputId": "a89c4113-8ce4-4e47-c348-a178e999b0fe",
    "scrolled": true
   },
   "outputs": [
    {
     "data": {
      "image/png": "[encoded data removed]",
      "text/plain": [
       "<Figure size 640x480 with 1 Axes>"
      ]
     },
     "metadata": {},
     "output_type": "display_data"
    }
   ],
   "source": [
    "# Dispersion plot\n",
    "\n",
    "# source: Inaugural Address Corpus\n",
    "text4.dispersion_plot([\"citizens\", \"democracy\", \"duty\", \"freedom\", \"America\"])"
   ]
  },
  {
   "cell_type": "code",
   "execution_count": 79,
   "metadata": {
    "colab": {
     "base_uri": "https://localhost:8080/",
     "height": 295
    },
    "id": "VKIzmnZ3Spde",
    "outputId": "f334f70a-0276-480d-bf93-3fa9c1871244"
   },
   "outputs": [
    {
     "data": {
      "image/png": "[encoded data removed]",
      "text/plain": [
       "<Figure size 640x480 with 1 Axes>"
      ]
     },
     "metadata": {},
     "output_type": "display_data"
    }
   ],
   "source": [
    "text4.dispersion_plot([\".\", \":\", \";\", \"...\", \"?\", \"!\"])"
   ]
  },
  {
   "cell_type": "code",
   "execution_count": 80,
   "metadata": {
    "colab": {
     "base_uri": "https://localhost:8080/"
    },
    "id": "-DKY-LjYKh8C",
    "outputId": "2ce28316-8868-4165-b883-d562ebefd0f4",
    "scrolled": true
   },
   "outputs": [
    {
     "name": "stdout",
     "output_type": "stream",
     "text": [
      "Help on method dispersion_plot in module nltk.text:\n",
      "\n",
      "dispersion_plot(words) method of nltk.text.Text instance\n",
      "    Produce a plot showing the distribution of the words through the text.\n",
      "    Requires pylab to be installed.\n",
      "    \n",
      "    :param words: The words to be plotted\n",
      "    :type words: list(str)\n",
      "    :seealso: nltk.draw.dispersion_plot()\n",
      "\n"
     ]
    }
   ],
   "source": [
    "help(text4.dispersion_plot)"
   ]
  },
  {
   "cell_type": "markdown",
   "metadata": {
    "id": "KtAsGB-tKh8C"
   },
   "source": [
    "### Generating text\n",
    "\n",
    "Note: depending on your version of NLTK `generate()` functionality may or may not work (NLTK version 3.7.4 or newer is required).\n",
    "\n"
   ]
  },
  {
   "cell_type": "code",
   "execution_count": 81,
   "metadata": {
    "colab": {
     "base_uri": "https://localhost:8080/",
     "height": 283
    },
    "id": "LRfZyWKpKh8D",
    "outputId": "8ecb797d-784c-425d-ad15-003e19453017"
   },
   "outputs": [
    {
     "name": "stdout",
     "output_type": "stream",
     "text": [
      "Knights who say a single flying - fish are lungless and cold , cheerless rooms were\n",
      "stark nonsense ; bad for the Captain reiterated his demand to the\n",
      "feast , they waded out with one hand was holding close up to the\n",
      "navigation and general management of affairs , hung on to illustrate\n",
      "his position , the otherwise miscellaneously carnivorous shark will\n",
      "seldom touch a man receives money is really marvellous , considering\n",
      "his monomania , not the less true events , as mountain torrents down a\n",
      "lean missionary in his berth , Jonah sleeps his hideous sleep . , tell\n",
      "Quohog there\n"
     ]
    },
    {
     "data": {
      "text/plain": [
       "'Knights who say a single flying - fish are lungless and cold , cheerless rooms were\\nstark nonsense ; bad for the Captain reiterated his demand to the\\nfeast , they waded out with one hand was holding close up to the\\nnavigation and general management of affairs , hung on to illustrate\\nhis position , the otherwise miscellaneously carnivorous shark will\\nseldom touch a man receives money is really marvellous , considering\\nhis monomania , not the less true events , as mountain torrents down a\\nlean missionary in his berth , Jonah sleeps his hideous sleep . , tell\\nQuohog there'"
      ]
     },
     "execution_count": 81,
     "metadata": {},
     "output_type": "execute_result"
    }
   ],
   "source": [
    "# Generate text (based on example)\n",
    "# https://www.nltk.org/api/nltk.html#nltk.text.Text.generate\n",
    "\n",
    "# we need to supply seed words\n",
    "text1.generate(text_seed = [\"Knights\", \"who\", \"say\"])"
   ]
  },
  {
   "cell_type": "markdown",
   "metadata": {
    "id": "7_0AMX-sKh8D"
   },
   "source": [
    "---\n",
    "\n",
    "**NLTK `generate()` builds a [trigram] language model from the supplied text** (words are generated based on previous two words).\n",
    "\n",
    "For more information see nltk.lm: https://www.nltk.org/api/nltk.lm.html"
   ]
  },
  {
   "cell_type": "code",
   "execution_count": 115,
   "metadata": {
    "colab": {
     "base_uri": "https://localhost:8080/"
    },
    "id": "Th7Or2AzKh8D",
    "outputId": "00b5bf14-a803-4b69-f0b0-283c70571eb7"
   },
   "outputs": [
    {
     "name": "stdout",
     "output_type": "stream",
     "text": [
      "Help on method generate in module nltk.text:\n",
      "\n",
      "generate(length=100, text_seed=None, random_seed=42) method of nltk.text.Text instance\n",
      "    Print random text, generated using a trigram language model.\n",
      "    See also `help(nltk.lm)`.\n",
      "    \n",
      "    :param length: The length of text to generate (default=100)\n",
      "    :type length: int\n",
      "    \n",
      "    :param text_seed: Generation can be conditioned on preceding context.\n",
      "    :type text_seed: list(str)\n",
      "    \n",
      "    :param random_seed: A random seed or an instance of `random.Random`. If provided,\n",
      "        makes the random sampling part of generation reproducible. (default=42)\n",
      "    :type random_seed: int\n",
      "\n"
     ]
    }
   ],
   "source": [
    "help(text1.generate)"
   ]
  },
  {
   "cell_type": "markdown",
   "metadata": {
    "id": "71CtOpUcLrph"
   },
   "source": [
    "## Converting Our Corpora into a NLTK Text "
   ]
  },
  {
   "cell_type": "code",
   "execution_count": 83,
   "metadata": {
    "colab": {
     "base_uri": "https://localhost:8080/"
    },
    "id": "blikIpXvLqYR",
    "outputId": "b85c8e00-6afc-4b11-fee8-8cd082283f20"
   },
   "outputs": [
    {
     "data": {
      "text/plain": [
       "(4999, 4)"
      ]
     },
     "execution_count": 83,
     "metadata": {},
     "output_type": "execute_result"
    }
   ],
   "source": [
    "# As we saw previously we can read data from any publicly accessible source\n",
    "url = \"https://github.com/CaptSolo/BSSDH_2023_beginners/raw/main/corpora/lv_old_newspapers_5k.tsv\"\n",
    "\n",
    "df = pd.read_csv(url, sep=\"\\t\")\n",
    "df.shape"
   ]
  },
  {
   "cell_type": "code",
   "execution_count": 84,
   "metadata": {
    "colab": {
     "base_uri": "https://localhost:8080/",
     "height": 363
    },
    "id": "vckh__2qM3G8",
    "outputId": "f0c5453f-b300-4edd-c595-11a10ad46572"
   },
   "outputs": [
    {
     "data": {
      "text/html": [
       "<div>\n",
       "<style scoped>\n",
       "    .dataframe tbody tr th:only-of-type {\n",
       "        vertical-align: middle;\n",
       "    }\n",
       "\n",
       "    .dataframe tbody tr th {\n",
       "        vertical-align: top;\n",
       "    }\n",
       "\n",
       "    .dataframe thead th {\n",
       "        text-align: right;\n",
       "    }\n",
       "</style>\n",
       "<table border=\"1\" class=\"dataframe\">\n",
       "  <thead>\n",
       "    <tr style=\"text-align: right;\">\n",
       "      <th></th>\n",
       "      <th>Language</th>\n",
       "      <th>Source</th>\n",
       "      <th>Date</th>\n",
       "      <th>Text</th>\n",
       "    </tr>\n",
       "  </thead>\n",
       "  <tbody>\n",
       "    <tr>\n",
       "      <th>0</th>\n",
       "      <td>Latvian</td>\n",
       "      <td>rekurzeme.lv</td>\n",
       "      <td>2008/09/04</td>\n",
       "      <td>\"Viņa pirmsnāves zīmītē bija rakstīts vienīgi ...</td>\n",
       "    </tr>\n",
       "    <tr>\n",
       "      <th>1</th>\n",
       "      <td>Latvian</td>\n",
       "      <td>diena.lv</td>\n",
       "      <td>2012/01/10</td>\n",
       "      <td>info@zurnalistiem.lv</td>\n",
       "    </tr>\n",
       "    <tr>\n",
       "      <th>2</th>\n",
       "      <td>Latvian</td>\n",
       "      <td>bauskasdzive.lv</td>\n",
       "      <td>2007/12/27</td>\n",
       "      <td>Bhuto, kas Pakistānā no trimdas atgriezās tika...</td>\n",
       "    </tr>\n",
       "    <tr>\n",
       "      <th>3</th>\n",
       "      <td>Latvian</td>\n",
       "      <td>bauskasdzive.lv</td>\n",
       "      <td>2008/10/08</td>\n",
       "      <td>Plkst. 4.00 Samoilovs / Pļaviņš (pludmales vol...</td>\n",
       "    </tr>\n",
       "    <tr>\n",
       "      <th>4</th>\n",
       "      <td>Latvian</td>\n",
       "      <td>diena.lv</td>\n",
       "      <td>2011/10/05</td>\n",
       "      <td>CVK bija vērsusies Skaburska, lūdzot izskaidro...</td>\n",
       "    </tr>\n",
       "    <tr>\n",
       "      <th>5</th>\n",
       "      <td>Latvian</td>\n",
       "      <td>zz.lv</td>\n",
       "      <td>2011/05/16</td>\n",
       "      <td>Apbalvojumus piešķir piemiņas zīmes valde Saei...</td>\n",
       "    </tr>\n",
       "    <tr>\n",
       "      <th>6</th>\n",
       "      <td>Latvian</td>\n",
       "      <td>ntz.lv</td>\n",
       "      <td>2010/08/13</td>\n",
       "      <td>- Amerikā biju uzaicināts viesoties ar visu ģi...</td>\n",
       "    </tr>\n",
       "    <tr>\n",
       "      <th>7</th>\n",
       "      <td>Latvian</td>\n",
       "      <td>rv.lv</td>\n",
       "      <td>2011/01/22</td>\n",
       "      <td>Mūrniece gan saka, ka Lužkova bitēm Latvijas p...</td>\n",
       "    </tr>\n",
       "    <tr>\n",
       "      <th>8</th>\n",
       "      <td>Latvian</td>\n",
       "      <td>diena.lv</td>\n",
       "      <td>2011/11/26</td>\n",
       "      <td>PĒDĒJĀ, kontrolēja PĀRDAUGAVAS telpu, izņemot ...</td>\n",
       "    </tr>\n",
       "    <tr>\n",
       "      <th>9</th>\n",
       "      <td>Latvian</td>\n",
       "      <td>la.lv</td>\n",
       "      <td>2011/04/30</td>\n",
       "      <td>Ar Ivaru tikāmies viņa dzimtajos \"Lazdiņos\" Za...</td>\n",
       "    </tr>\n",
       "  </tbody>\n",
       "</table>\n",
       "</div>"
      ],
      "text/plain": [
       "  Language           Source        Date  \\\n",
       "0  Latvian     rekurzeme.lv  2008/09/04   \n",
       "1  Latvian         diena.lv  2012/01/10   \n",
       "2  Latvian  bauskasdzive.lv  2007/12/27   \n",
       "3  Latvian  bauskasdzive.lv  2008/10/08   \n",
       "4  Latvian         diena.lv  2011/10/05   \n",
       "5  Latvian            zz.lv  2011/05/16   \n",
       "6  Latvian           ntz.lv  2010/08/13   \n",
       "7  Latvian            rv.lv  2011/01/22   \n",
       "8  Latvian         diena.lv  2011/11/26   \n",
       "9  Latvian            la.lv  2011/04/30   \n",
       "\n",
       "                                                Text  \n",
       "0  \"Viņa pirmsnāves zīmītē bija rakstīts vienīgi ...  \n",
       "1                               info@zurnalistiem.lv  \n",
       "2  Bhuto, kas Pakistānā no trimdas atgriezās tika...  \n",
       "3  Plkst. 4.00 Samoilovs / Pļaviņš (pludmales vol...  \n",
       "4  CVK bija vērsusies Skaburska, lūdzot izskaidro...  \n",
       "5  Apbalvojumus piešķir piemiņas zīmes valde Saei...  \n",
       "6  - Amerikā biju uzaicināts viesoties ar visu ģi...  \n",
       "7  Mūrniece gan saka, ka Lužkova bitēm Latvijas p...  \n",
       "8  PĒDĒJĀ, kontrolēja PĀRDAUGAVAS telpu, izņemot ...  \n",
       "9  Ar Ivaru tikāmies viņa dzimtajos \"Lazdiņos\" Za...  "
      ]
     },
     "execution_count": 84,
     "metadata": {},
     "output_type": "execute_result"
    }
   ],
   "source": [
    "df.head(10)"
   ]
  },
  {
   "cell_type": "code",
   "execution_count": 85,
   "metadata": {
    "colab": {
     "base_uri": "https://localhost:8080/",
     "height": 363
    },
    "id": "Itqdnsz6M80z",
    "outputId": "a36aff65-6066-467b-c10e-fd360fc4bb6a"
   },
   "outputs": [
    {
     "data": {
      "text/html": [
       "<div>\n",
       "<style scoped>\n",
       "    .dataframe tbody tr th:only-of-type {\n",
       "        vertical-align: middle;\n",
       "    }\n",
       "\n",
       "    .dataframe tbody tr th {\n",
       "        vertical-align: top;\n",
       "    }\n",
       "\n",
       "    .dataframe thead th {\n",
       "        text-align: right;\n",
       "    }\n",
       "</style>\n",
       "<table border=\"1\" class=\"dataframe\">\n",
       "  <thead>\n",
       "    <tr style=\"text-align: right;\">\n",
       "      <th></th>\n",
       "      <th>Language</th>\n",
       "      <th>Source</th>\n",
       "      <th>Date</th>\n",
       "      <th>Text</th>\n",
       "    </tr>\n",
       "  </thead>\n",
       "  <tbody>\n",
       "    <tr>\n",
       "      <th>1137</th>\n",
       "      <td>Latvian</td>\n",
       "      <td>la.lv</td>\n",
       "      <td>2005/04/27</td>\n",
       "      <td>Kad maz naudas veselības aprūpei</td>\n",
       "    </tr>\n",
       "    <tr>\n",
       "      <th>1977</th>\n",
       "      <td>Latvian</td>\n",
       "      <td>diena.lv</td>\n",
       "      <td>2006/09/21</td>\n",
       "      <td>Idejas, kā palīdzēt skolai, uzņēmējiem rodotie...</td>\n",
       "    </tr>\n",
       "    <tr>\n",
       "      <th>808</th>\n",
       "      <td>Latvian</td>\n",
       "      <td>zz.lv</td>\n",
       "      <td>2007/01/07</td>\n",
       "      <td>Ja samazinās mazuta cenas, samazinās arī tarif...</td>\n",
       "    </tr>\n",
       "    <tr>\n",
       "      <th>17</th>\n",
       "      <td>Latvian</td>\n",
       "      <td>zz.lv</td>\n",
       "      <td>2007/01/07</td>\n",
       "      <td>2008.gadā gāzes piegādes cena pieaugs vēl par ...</td>\n",
       "    </tr>\n",
       "    <tr>\n",
       "      <th>2818</th>\n",
       "      <td>Latvian</td>\n",
       "      <td>dzirkstele.lv</td>\n",
       "      <td>2007/01/08</td>\n",
       "      <td>Kā norādīja Šlesers, komersanti, kas Latvijas ...</td>\n",
       "    </tr>\n",
       "    <tr>\n",
       "      <th>4839</th>\n",
       "      <td>Latvian</td>\n",
       "      <td>zz.lv</td>\n",
       "      <td>2007/01/09</td>\n",
       "      <td>Vispirms pasākuma dalībniekiem Rīgas Skolēnu p...</td>\n",
       "    </tr>\n",
       "    <tr>\n",
       "      <th>4222</th>\n",
       "      <td>Latvian</td>\n",
       "      <td>dzirkstele.lv</td>\n",
       "      <td>2007/01/10</td>\n",
       "      <td>Sestdien pulksten 11.00 Gulbenes kultūras cent...</td>\n",
       "    </tr>\n",
       "    <tr>\n",
       "      <th>1572</th>\n",
       "      <td>Latvian</td>\n",
       "      <td>dzirkstele.lv</td>\n",
       "      <td>2007/01/10</td>\n",
       "      <td>Informāciju, ka būtu interese par VP \"Wimm-Bil...</td>\n",
       "    </tr>\n",
       "    <tr>\n",
       "      <th>3927</th>\n",
       "      <td>Latvian</td>\n",
       "      <td>zz.lv</td>\n",
       "      <td>2007/01/11</td>\n",
       "      <td>Piektdien, 2. novembrī, I.Minusai un I.Jursone...</td>\n",
       "    </tr>\n",
       "    <tr>\n",
       "      <th>3167</th>\n",
       "      <td>Latvian</td>\n",
       "      <td>bauskasdzive.lv</td>\n",
       "      <td>2007/01/12</td>\n",
       "      <td>Republikāņu partijas biedrs, jurists Larsons, ...</td>\n",
       "    </tr>\n",
       "  </tbody>\n",
       "</table>\n",
       "</div>"
      ],
      "text/plain": [
       "     Language           Source        Date  \\\n",
       "1137  Latvian            la.lv  2005/04/27   \n",
       "1977  Latvian         diena.lv  2006/09/21   \n",
       "808   Latvian            zz.lv  2007/01/07   \n",
       "17    Latvian            zz.lv  2007/01/07   \n",
       "2818  Latvian    dzirkstele.lv  2007/01/08   \n",
       "4839  Latvian            zz.lv  2007/01/09   \n",
       "4222  Latvian    dzirkstele.lv  2007/01/10   \n",
       "1572  Latvian    dzirkstele.lv  2007/01/10   \n",
       "3927  Latvian            zz.lv  2007/01/11   \n",
       "3167  Latvian  bauskasdzive.lv  2007/01/12   \n",
       "\n",
       "                                                   Text  \n",
       "1137                   Kad maz naudas veselības aprūpei  \n",
       "1977  Idejas, kā palīdzēt skolai, uzņēmējiem rodotie...  \n",
       "808   Ja samazinās mazuta cenas, samazinās arī tarif...  \n",
       "17    2008.gadā gāzes piegādes cena pieaugs vēl par ...  \n",
       "2818  Kā norādīja Šlesers, komersanti, kas Latvijas ...  \n",
       "4839  Vispirms pasākuma dalībniekiem Rīgas Skolēnu p...  \n",
       "4222  Sestdien pulksten 11.00 Gulbenes kultūras cent...  \n",
       "1572  Informāciju, ka būtu interese par VP \"Wimm-Bil...  \n",
       "3927  Piektdien, 2. novembrī, I.Minusai un I.Jursone...  \n",
       "3167  Republikāņu partijas biedrs, jurists Larsons, ...  "
      ]
     },
     "execution_count": 85,
     "metadata": {},
     "output_type": "execute_result"
    }
   ],
   "source": [
    "# Let us sort by Date - even though it is a string type\n",
    "df = df.sort_values(by=\"Date\", ascending=True)  # ascending is True by default, if you wanted Descending you could use ascending=False\n",
    "df.head(10)"
   ]
  },
  {
   "cell_type": "markdown",
   "metadata": {
    "id": "ME-ddPn8OhY4"
   },
   "source": [
    "<img align=\"left\" src=\"https://ithaka-labs.s3.amazonaws.com/static-files/images/tdm/tdmdocs/CC_BY.png\"><br />\n",
    "\n",
    "The following section was adopted by Valdis Saulespurens from notebook by [Nathan Kelber](http://nkelber.com) under [Creative Commons CC BY License](https://creativecommons.org/licenses/by/4.0/)<br />\n"
   ]
  },
  {
   "cell_type": "markdown",
   "metadata": {
    "id": "cUPq_fLRO6FL"
   },
   "source": [
    "# Concordance and Collocation\n",
    "\n",
    "**Description:** This notebook section describes how to create a concordance and collocation starting from text files and from your own CSV file.\n",
    "\n",
    "**Use Case:** For Learners (Detailed explanation, not ideal for researchers)\n",
    "\n",
    "**Difficulty:** Intermediate\n",
    "\n",
    "**Completion Time:** 45 minutes\n",
    "\n",
    "**Knowledge Required:** \n",
    "* Python Day 1 Series ([Python Introduction](https://github.com/ValRCS/BSSDH_22/blob/main/notebooks/Python%20Introduction.ipynb))\n",
    "\n",
    "**Knowledge Recommended:** None\n",
    "\n",
    "**Data Format:** Text, CSV file from previous lessons \n",
    "\n",
    "**Libraries Used:** NLTK\n",
    "\n",
    "**Research Pipeline:** None\n",
    "___"
   ]
  },
  {
   "cell_type": "markdown",
   "metadata": {
    "id": "iaK8BnPhPYlI"
   },
   "source": [
    "## Concordance\n",
    "\n",
    "The concordance has a long history in humanities study and Roberto Busa's concordance Index Thomisticus—started in 1946—is arguably the first digital humanities project. Before computers were common, they were printed in large volumes such as John Bartlett's 1982 reference book A Complete Concordance to Shakespeare—it was 1909 pages pages long! \n",
    "\n",
    "A concordance gives the context of a given word or phrase in a body of texts. For example, a literary scholar might ask: how often and in what context does Shakespeare use the phrase \"honest Iago\" in Othello? A historian might examine a particular politician's speeches, looking for examples of a particular \"dog whistle\".\n",
    "\n",
    "<font color=\"red\">Read more</font>\n",
    "\n",
    "* Geoffrey Rockwell and Stéfan Sinclair. [Tremendous Mechanical Labor: Father Busa's Algorithm](http://www.digitalhumanities.org/dhq/vol/14/3/000456/000456.html) (2020)\n",
    "* Julianne Nyhan and Marco Passarotti, eds. [One Origin of Digital Humanities: Fr Roberto Busa in His Own Words](https://www.amazon.com/One-Origin-Digital-Humanities-Roberto/dp/3030183114/) (2019)\n",
    "* Julianne Nyhan and Melissa Terras. [Uncovering 'hidden contributions to the history of Digital Humanities: the Index Thomisticus' femal keypunch operators](https://discovery.ucl.ac.uk/id/eprint/10052279/9/Nyhan_DH2017.redacted.pdf) (2017)\n",
    "* Steven E. Jones [Roberto Busa, S.J., and the Emergence of Humanities Computing](https://www.routledge.com/Roberto-Busa-S-J-and-the-Emergence-of-Humanities-Computing-The-Priest/Jones/p/book/9781138587250) (2016)\n",
    "___"
   ]
  },
  {
   "cell_type": "markdown",
   "metadata": {
    "id": "h5JPnHPNNdRo"
   },
   "source": [
    "### Extracting Text from dataframe"
   ]
  },
  {
   "cell_type": "code",
   "execution_count": 86,
   "metadata": {
    "colab": {
     "base_uri": "https://localhost:8080/"
    },
    "id": "zV0TktGUNYa_",
    "outputId": "f71555b9-55e5-48ce-ab40-cc8c80f4c753"
   },
   "outputs": [
    {
     "data": {
      "text/plain": [
       "4999"
      ]
     },
     "execution_count": 86,
     "metadata": {},
     "output_type": "execute_result"
    }
   ],
   "source": [
    "### Extracting text from dataframe\n",
    "documents = list(df.Text) # df[\"Text\"].tolist() would do the same\n",
    "len(documents)\n"
   ]
  },
  {
   "cell_type": "code",
   "execution_count": 87,
   "metadata": {
    "colab": {
     "base_uri": "https://localhost:8080/"
    },
    "id": "2ftwKgGZVKUg",
    "outputId": "5843110e-c3f9-459e-d190-4a8a21eaad9d"
   },
   "outputs": [
    {
     "data": {
      "text/plain": [
       "list"
      ]
     },
     "execution_count": 87,
     "metadata": {},
     "output_type": "execute_result"
    }
   ],
   "source": [
    "type(documents)"
   ]
  },
  {
   "cell_type": "code",
   "execution_count": 88,
   "metadata": {
    "colab": {
     "base_uri": "https://localhost:8080/"
    },
    "id": "gN_MVv2PN1Xb",
    "outputId": "75d2bc0e-4c6a-495e-f092-7bb1079dd2c4"
   },
   "outputs": [
    {
     "data": {
      "text/plain": [
       "['Kad maz naudas veselības aprūpei',\n",
       " 'Idejas, kā palīdzēt skolai, uzņēmējiem rodoties vēl un vēl, tagad kopīgi ar pagasta vadību prātojot, kā skolai, 100 gadu jubileju sagaidot, uzlikt jaunu jumtu. Tā kā internāta audzēkņiem nav kur nomazgāties, viesnīca Radi un draugi uzbūvējuši viņiem jauku pirtiņu ar saunu. Bērniem gan nākas bez tās iztikt vēl joprojām, jo, kā apgalvojot rajona sanitāri epidemioloģiskās stacijas ierēdņi, pirts ģērbtuves izmēri īsti neatbilstot noteiktajām prasībām. \"Mēs esam tā kā saauguši kopā, ik nedēļas sazvanāmies, dzīvojam līdzi skolas priekiem un bēdām, pārdzīvojam, lai tikai to neaizslēgtu. Šiem Latgales pagasta cilvēkiem ir tāds siltums un mīļums, viņi nekad neko mums neprasa, bet prot ar pateicību saņemt dāvāto,\" Dienai saka Aigars Bērziņš, kurš Malnavā pie vecāsmātes pavadījis bērnības vasaras.',\n",
       " 'Ja samazinās mazuta cenas, samazinās arī tarifi, un otrādi.']"
      ]
     },
     "execution_count": 88,
     "metadata": {},
     "output_type": "execute_result"
    }
   ],
   "source": [
    "documents[:3]  # first three documents"
   ]
  },
  {
   "cell_type": "code",
   "execution_count": 89,
   "metadata": {
    "colab": {
     "base_uri": "https://localhost:8080/"
    },
    "id": "xLLGPiE4OBs8",
    "outputId": "93c8be29-c8ae-4992-9884-3ac6a1a94b99"
   },
   "outputs": [
    {
     "data": {
      "text/plain": [
       "1415137"
      ]
     },
     "execution_count": 89,
     "metadata": {},
     "output_type": "execute_result"
    }
   ],
   "source": [
    "# for the purpose of this analysis we will join all the documents together \n",
    "# this is not always appropriate depending on your needs\n",
    "all_docs = \"\\n\".join(documents)\n",
    "len(all_docs)"
   ]
  },
  {
   "cell_type": "code",
   "execution_count": 90,
   "metadata": {
    "colab": {
     "base_uri": "https://localhost:8080/",
     "height": 53
    },
    "id": "1ek62y91OQLs",
    "outputId": "1455bc10-a907-4610-bd2f-f0f12645171d"
   },
   "outputs": [
    {
     "data": {
      "text/plain": [
       "'Kad maz naudas veselības aprūpei\\nIdejas, kā palīdzēt skolai, uzņēmējiem rodoties vēl un vēl, tagad k'"
      ]
     },
     "execution_count": 90,
     "metadata": {},
     "output_type": "execute_result"
    }
   ],
   "source": [
    "all_docs[:100] # so now all documents are in one big string \n",
    "# notice the \\n indicating newlinesb"
   ]
  },
  {
   "cell_type": "markdown",
   "metadata": {
    "id": "5ziR_UYJQKJs"
   },
   "source": [
    "Next, we lowercase our text and use the Natural Language Toolkit (NLTK) to tokenize it. Tokenizing breaks up the the document into individual words. Finally, we use our tokens to create an NLTK Text object."
   ]
  },
  {
   "cell_type": "code",
   "execution_count": 91,
   "metadata": {
    "colab": {
     "base_uri": "https://localhost:8080/"
    },
    "id": "EOfqusj6QQfj",
    "outputId": "06d4bc03-7a76-42a6-c0b6-59edb2659a5a"
   },
   "outputs": [
    {
     "name": "stderr",
     "output_type": "stream",
     "text": [
      "[nltk_data] Downloading package punkt to /Users/captsolo/nltk_data...\n",
      "[nltk_data]   Package punkt is already up-to-date!\n"
     ]
    }
   ],
   "source": [
    "# Tokenize one of the files\n",
    "import nltk  # not needed if you already imported\n",
    "nltk.download('punkt')  # again not needed if you already downloaded punkt\n",
    "file_contents = all_docs.lower()\n",
    "tokens = nltk.word_tokenize(file_contents)\n",
    "text = nltk.Text(tokens)"
   ]
  },
  {
   "cell_type": "code",
   "execution_count": 92,
   "metadata": {
    "colab": {
     "base_uri": "https://localhost:8080/"
    },
    "id": "xtBcbq1eQbtr",
    "outputId": "ea7fe910-91b5-4f77-da72-1f165a70ed26"
   },
   "outputs": [
    {
     "data": {
      "text/plain": [
       "nltk.text.Text"
      ]
     },
     "execution_count": 92,
     "metadata": {},
     "output_type": "execute_result"
    }
   ],
   "source": [
    "# Verify that we have created an NLTK Text object\n",
    "type(text)"
   ]
  },
  {
   "cell_type": "code",
   "execution_count": 93,
   "metadata": {
    "colab": {
     "base_uri": "https://localhost:8080/"
    },
    "id": "Fd4bZGsHQd28",
    "outputId": "7976c45e-3b03-4991-fd49-7eee354bccb4"
   },
   "outputs": [
    {
     "name": "stdout",
     "output_type": "stream",
     "text": [
      "Displaying 25 of 33 matches:\n",
      "tāji , ceturto - basketbola skolas „ rīga '' komanda , piekto - igaunijas spor\n",
      "ajai lielupes tilta šuvei uz šosejas rīga - jelgava . tur darbi risināsies būv\n",
      "ēc budapeštas , krakovas un berlīnes rīga kļūs par ceturto pilsētu aiz čehijas\n",
      "? es nesaku , ka tie nav vajadzīgi . rīga ir rīga — latvijas galvaspilsēta . t\n",
      "aku , ka tie nav vajadzīgi . rīga ir rīga — latvijas galvaspilsēta . tikai ner\n",
      "ēlē profesionālajā pūtēju orķestrī « rīga » , jānis retenais aktīvi muzicē un \n",
      "spēlējis hokeja komandā « dinamo » ( rīga ) un latvijas valsts izlasē ; jaunie\n",
      "tikās lielajā pasākumā pie `` arēnas rīga '' . `` protams , visiem gribas izju\n",
      "kcija „ mēs par velo '' 18. jūlijs : rīga - slampe xxiv vispārējo latviešu dzi\n",
      "dzelzceļa vēstures muzejā , `` arēnā rīga '' , latvijas universitātē , starpta\n",
      "limits - 8 , - rēzekne — varakļāni — rīga ( 17.20 un 4.40 ( darba dienās ) . l\n",
      "erhofa ( roja ) , viola puškarjova ( rīga ) , diāna ančikovska ( aizkraukle ) \n",
      "ga ( ventspils ) , kristiāna pelše ( rīga ) , alīna anna petkēviča ( rīga ) un\n",
      "še ( rīga ) , alīna anna petkēviča ( rīga ) un katrīna karlīna caune ( jelgava\n",
      "adi , draugi vai paziņas . apskatīta rīga , vecrīga , ādaži , mākoņkalns , tau\n",
      "sinās ceļu un atslogos a6 maģistrāli rīga — daugavpils . — vai šis ceļš būs ar\n",
      "vai un aleksandrai tihovskai . svk « rīga » komandā par labākajām tika atzītas\n",
      "t 80 % no latvijas tūrisma tirgus un rīga kā simbols ārzemniekam pagaidām esot\n",
      "aču aizvadīs arī abi rīgas klubi vef rīga un barons , kas jau nodrošinājuši vi\n",
      "esers ( lpp/lc ) , konkursu par live rīga satura izstrādi , atjaunošanu un tul\n",
      "izdevumus ? ” 6.oktobrī kinoteātrī « rīga » notiks īpašs koncerts « liepājniek\n",
      "lapā , kas atrodas uz pieprasījumu « rīga » krievijā populārā meklētājā yandex\n",
      "ielā saimniecībā tas ir īsti vietā . rīga ir ļoti mainījusies . pirms dažām di\n",
      "jānis dūklavs . · vilciens sigulda – rīga , atiet pl.17:20 , pienāk rīgā pl . \n",
      " , ka , piemēram , 700 gadu jubileju rīga svinējusi arī ar jauniem pilsētas at\n"
     ]
    }
   ],
   "source": [
    "# Create a concordance for the given word\n",
    "text.concordance('Rīga')  # notice it gives you matches in lowercase"
   ]
  },
  {
   "cell_type": "markdown",
   "metadata": {
    "id": "ewhALtehQt7B"
   },
   "source": [
    "By default, the first 25 matches are printed along with 80 characters on each side of our string text. We can specify that more lines should be shown using a `lines` and `width` argument that accept integers."
   ]
  },
  {
   "cell_type": "code",
   "execution_count": 94,
   "metadata": {
    "colab": {
     "base_uri": "https://localhost:8080/"
    },
    "id": "D2uJ1SoCQvOq",
    "outputId": "cf901b7f-f64a-4fea-df9d-15ef650b8099"
   },
   "outputs": [
    {
     "name": "stdout",
     "output_type": "stream",
     "text": [
      "Displaying 50 of 56 matches:\n",
      "rsvars 20:17. tomēr līdz ceturtdaļas izskaņai latvija spēja panākt 24:17. kā aģentūra leta noskaidr\n",
      " nesēju latvijas valstī , pasludināja , ka `` latvija , apvienota etnogrāfiskās robežās ( kurzeme ,\n",
      "ēstis ” sazinājās pa telefonu ar sia “ maxima latvija ” preses sekretāru , lai uzzinātu par kompāni\n",
      "ficiālais nosaukums ir latvijas republika jeb latvija . `` provizoriski izvērtējot transportlīdzekļ\n",
      "ncē bronzas godalgu izcīnīja latvieši – “ ddb latvija ” tekstu autors raimonds platacis un “ cube -\n",
      "pājas tramvajs ” , projektētājs – ps „ epkb – latvija ” ; iesildoties ieteicams izmantot nūjas , sā\n",
      "tbilisi . mišu sargāt no krievu lāča : varenā latvija grib karot visās debesu pusēs . kamēr eiropas\n",
      ", kaut kā no šīs bedres reiz izķepurosies arī latvija , tai atkal vajadzēs celtniekus , oficiantus \n",
      "nīca . dome atgādina , ka nedz rēzekne , nedz latvija un a/s “ latvijas gāze ” nevar ietekmēt dabas\n",
      "iāliem pamatskolas līmenī jābūt bez maksas un latvija šai konvencijai ir pievienojusies . turklāt l\n",
      " muļķi , vai nezina situāciju . '' nē , tukša latvija nepaliks — bēdīga gan . `` šī iemesla dēļ vis\n",
      " lieliski tiek ar šo uzdevumu galā ! ” 1. sia latvija statoil liene šomase : « ziemassvētki ir dāvi\n",
      "īvi atspoguļos ltv1 rīta raidījums „ labrīt , latvija ! ” nekustamā īpašuma nodokļa ieņēmumi ( iesk\n",
      "mniekam pagaidām esot vairāk atpazīstams nekā latvija . jubilejas gadā ir ieplānota muižu nedēļa . \n",
      "avstarpējās spēlēs . īpaši sāpīgas neveiksmes latvija piedzīvoja 2006.gada turīnas olimpiādē , kad \n",
      "s pirkšanu nevienam intereses neesot . šobrīd latvija atjaunojamo energoresursu īpatsvara ziņā ir o\n",
      "ja pilsētā » un prezentācijas tēma « lidojošā latvija , kur austrumi satiek rietumus » uzrunā izstā\n",
      "ēts inkriminēt izmeklēšanas gaitā . `` maxima latvija '' preses sekretārs ivars andiņš atklāja , ka\n",
      "jums ievērojami sarucis . '' « sorosa fonda - latvija » konsultants jānis baltačs atgādināja , ka š\n",
      "o parūpējās šī gada konkursa « mis un misters latvija » finālisti . pirmdienas vakarā jaunieši tika\n",
      "mgales olimpiskajā centrā lielais volejbols : latvija – ungārija skatoties televīzijas raidījumus s\n",
      " kauperu , '' komentē kristīne britāne , bite latvija marketinga vadītāja . - kāda , arī ņemot vērā\n",
      "latu mēnesī , liecina veikalu tīkla `` maxima latvija '' veiktā aptauja . santai piemīt īpašības , \n",
      "ā un patlaban 95. markas benzīna litrs sia `` latvija statoil '' maksā 90,5 santīmus , `` lukoil ''\n",
      " . tā būs maksa par sen pieņemtiem lēmumiem - latvija ir apsolījusi pildīt direktīvu , kas paredz e\n",
      " solījumu zaļās enerģijas īpatsvara pieaugumā latvija ir eiropas rekordiste tūlīt aiz zviedrijas , \n",
      "oda ir pirmā valoda . 2015. gada pirmajā pusē latvija pārņems es prezidentūru , un starptautiskā fr\n",
      "entu koridora noteikšana maksājumu lielumam . latvija kopā ar citām sabiedrotajām valstīm ir ieinte\n",
      "is ar pašreiz zemāku atbalsta likmi , t.sk. , latvija , pastāv uz pēc iespējas īsāku pārejas period\n",
      " » rīgas maratonā , kur viņš skrēja 10 km . — latvija ir silta zeme ar simpātiskiem , laipniem un i\n",
      "n '' , `` mans vīriņš '' , `` johaidī '' , `` latvija , zeme visskaistākā '' , `` kāzu jubileja '' \n",
      " ieguves vietas , un dombrovskis atklāja , ka latvija ir ieinteresēta piesaistīt asv ekspertus , la\n",
      "tiņš : – valsts prezidents jau paziņojis , ka latvija atbalstot bezvīzu režīma ieviešanu ar krievij\n",
      "upā ; par ko ? man kā latvietim ir kauns , ka latvija , kas 1935. gadā bija eiropas čempioni , krie\n",
      " ka jauniešiem interesē gan vēsture , gan rūp latvija šodien , tikai viņiem jāpastāsta lietas būtīb\n",
      "a urbanoviča grāmatu `` nākotnes melnraksti . latvija 1934 . -1941. '' . liepājā nopietnas problēma\n",
      "esko eesti » as ) , latvijā ( sia « konekesko latvija » ) , lietuvā ( « uab konekesko lietuva » ) u\n",
      " 75 % , i.zolotarjovam - 21,25 % . `` komkeri latvija '' pieder krievijas iedzīvotājam genādijam go\n",
      "ndēt pēc 2004. gada es uzņemtās valstis , arī latvija , šo finansējumu izmantojot tikai ten-t proje\n",
      "nansējumu izmantojot tikai ten-t projektiem . latvija varētu pretendēt arī uz finansējumu no pārējā\n",
      " n. ušakovs . valsts prezidents atzīmēja , ka latvija ir pasaulē varenākās militārās alianses biedr\n",
      " krita pirātu gūstā . brīvā tirgus ēnas puses latvija ir viens neliels asv satelīts , bet mūsu teri\n",
      "iens ir likuma pārkāpums , '' sacīja orlovs . latvija vēl nav tikusi galā ar “ parex ” un zviedru b\n",
      "ājs jānis reirs ceturtdien teica , ka pašlaik latvija no lietuvas sagaida atbildīgu rīcību un to , \n",
      " latvijas krājbanku '' . `` pirms trim gadiem latvija glāba `` parex banku '' un arī lietuvas filiā\n",
      "es . paredzēts , ka projektā iesaistīsies arī latvija un igaunija , kā arī bija plānota polijas līd\n",
      " jaunās aes būvniecībā iesaistīsies lietuva , latvija , igaunija un polija . šodien gājējiem tiks a\n",
      "ietu . tas rada problēmas tūkstošiem ģimeņu . latvija ir pirmajā vietā eiropā , kur ģimenēm ar bērn\n",
      "i ar kādu konkrētu tarifu plānu , norāda bite latvija klientu apkalpošanas vadītāja oksana stankevi\n",
      "eiro ( 140 miljonus latu ) , taču jau pašlaik latvija ir attiekusies tos pieņemt , ņemot vērā pašre\n"
     ]
    }
   ],
   "source": [
    "# Create a concordance for the given word\n",
    "# Increasing lines shown and number of characters\n",
    "text.concordance('Latvija', lines=50, width=100)"
   ]
  },
  {
   "cell_type": "markdown",
   "metadata": {
    "id": "uwzZJ-47Q9Ed"
   },
   "source": [
    "If we want to supply a bigram, trigram, or longer construction, they are supplied as individual strings within a Python list. (If you try to supply a string with a space in the middle, there will be no results.)"
   ]
  },
  {
   "cell_type": "code",
   "execution_count": 95,
   "metadata": {
    "colab": {
     "base_uri": "https://localhost:8080/"
    },
    "id": "Srxv5oxCQ5IP",
    "outputId": "7eded3ae-b967-4bbb-8ec8-76b9e34547b1"
   },
   "outputs": [
    {
     "name": "stdout",
     "output_type": "stream",
     "text": [
      "Displaying 8 of 8 matches:\n",
      "ksa par sen pieņemtiem lēmumiem - latvija ir apsolījusi pildīt direktīvu , kas\n",
      "ļās enerģijas īpatsvara pieaugumā latvija ir eiropas rekordiste tūlīt aiz zvie\n",
      "atonā , kur viņš skrēja 10 km . — latvija ir silta zeme ar simpātiskiem , laip\n",
      "tas , un dombrovskis atklāja , ka latvija ir ieinteresēta piesaistīt asv ekspe\n",
      ". valsts prezidents atzīmēja , ka latvija ir pasaulē varenākās militārās alian\n",
      "u gūstā . brīvā tirgus ēnas puses latvija ir viens neliels asv satelīts , bet \n",
      "ada problēmas tūkstošiem ģimeņu . latvija ir pirmajā vietā eiropā , kur ģimenē\n",
      "iljonus latu ) , taču jau pašlaik latvija ir attiekusies tos pieņemt , ņemot v\n"
     ]
    }
   ],
   "source": [
    "# Create a concordance for a sequence of words\n",
    "text.concordance(['Latvija', 'ir'])"
   ]
  },
  {
   "cell_type": "code",
   "execution_count": 96,
   "metadata": {
    "colab": {
     "base_uri": "https://localhost:8080/"
    },
    "id": "FKbOvlF1WS5w",
    "outputId": "5069d027-6747-46b5-9bc5-b41d84d2dec4"
   },
   "outputs": [
    {
     "name": "stdout",
     "output_type": "stream",
     "text": [
      "no matches\n"
     ]
    }
   ],
   "source": [
    "text.concordance('Latvija ir')"
   ]
  },
  {
   "cell_type": "markdown",
   "metadata": {
    "id": "T1iSikW6ROoR"
   },
   "source": [
    "This method works well for a quick preview of the lines, but if we want to save this concordance for later analysis we can use the `.concordance_list()` method. The `.concordance_list()` method outputs a list, but the elements of that list *are not* simple strings. They are ConcordanceLine objects."
   ]
  },
  {
   "cell_type": "code",
   "execution_count": 97,
   "metadata": {
    "id": "XI3V-jfLRQen"
   },
   "outputs": [],
   "source": [
    "# Output the concordance data\n",
    "output_list = text.concordance_list(['Latvija', 'ir'], width=200, lines=50)  # we do not have 50 matches in our dataset"
   ]
  },
  {
   "cell_type": "code",
   "execution_count": 98,
   "metadata": {
    "colab": {
     "base_uri": "https://localhost:8080/"
    },
    "id": "7VqhAHkCRHb8",
    "outputId": "32ca1189-dfe0-4166-dbf1-95f67903dad3"
   },
   "outputs": [
    {
     "data": {
      "text/plain": [
       "nltk.text.ConcordanceLine"
      ]
     },
     "execution_count": 98,
     "metadata": {},
     "output_type": "execute_result"
    }
   ],
   "source": [
    "type(output_list[0])"
   ]
  },
  {
   "cell_type": "code",
   "execution_count": 99,
   "metadata": {
    "colab": {
     "base_uri": "https://localhost:8080/",
     "height": 53
    },
    "id": "tJC-ZB9LRrzw",
    "outputId": "e6715f2e-3a61-42f6-ec70-539092b15b30"
   },
   "outputs": [
    {
     "data": {
      "text/plain": [
       "'raud pieaugt vēl vairāk , nekā solīts uz 1.aprīli . tā būs maksa par sen pieņemtiem lēmumiem - latvija ir apsolījusi pildīt direktīvu , kas paredz elektrības galapatēriņā 40 % saražot no atjaunojamaji'"
      ]
     },
     "execution_count": 99,
     "metadata": {},
     "output_type": "execute_result"
    }
   ],
   "source": [
    "# We can view individual lines by using a Python list index followed by .line.\n",
    "output_list[0].line"
   ]
  },
  {
   "cell_type": "code",
   "execution_count": 100,
   "metadata": {
    "colab": {
     "base_uri": "https://localhost:8080/",
     "height": 35
    },
    "id": "2XTeADP_Wygw",
    "outputId": "d7a20ea6-4c81-40f3-c802-f082b593ba88"
   },
   "outputs": [
    {
     "data": {
      "text/plain": [
       "'latvija ir'"
      ]
     },
     "execution_count": 100,
     "metadata": {},
     "output_type": "execute_result"
    }
   ],
   "source": [
    "output_list[0].query"
   ]
  },
  {
   "cell_type": "markdown",
   "metadata": {
    "id": "kEOUvXeZR3Ph"
   },
   "source": [
    "If we want to save our concordance, we can write to a file line-by-line."
   ]
  },
  {
   "cell_type": "code",
   "execution_count": 101,
   "metadata": {
    "id": "K9-09WRYR2er"
   },
   "outputs": [],
   "source": [
    "# Writing the concordance to a text file\n",
    "\n",
    "# encoding=\"utf-8\" is very important for languages using symbols outside regular English characters\n",
    "with open('my_concordance.txt', mode='w',encoding=\"utf-8\") as f:\n",
    "    for row in output_list:\n",
    "        f.write(row.line)\n",
    "        f.write('\\n')"
   ]
  },
  {
   "cell_type": "markdown",
   "metadata": {
    "id": "pp6aoH59LLhn"
   },
   "source": [
    "### Dispersion plot"
   ]
  },
  {
   "cell_type": "markdown",
   "metadata": {
    "id": "JCHOtXvVS74z"
   },
   "source": [
    "Lastly, NLTK can create a dispersion plot that helps visualize where tokens occur in the document. This can reveal the way words are used in the document over time."
   ]
  },
  {
   "cell_type": "code",
   "execution_count": 102,
   "metadata": {
    "colab": {
     "base_uri": "https://localhost:8080/",
     "height": 295
    },
    "id": "RmxpCvngS845",
    "outputId": "d4a4615f-6f56-4374-81be-e462fac8d2a9"
   },
   "outputs": [
    {
     "data": {
      "image/png": "[encoded data removed]",
      "text/plain": [
       "<Figure size 640x480 with 1 Axes>"
      ]
     },
     "metadata": {},
     "output_type": "display_data"
    }
   ],
   "source": [
    "text.dispersion_plot(['latvija', 'basketbols', 'futbols', 'vēlēšanas'])"
   ]
  },
  {
   "cell_type": "markdown",
   "metadata": {
    "id": "A3WrsuE-LLho"
   },
   "source": [
    "### Normalizing text\n",
    "\n",
    "\"basketbols\" appears in the dispersion plot just a few times. Let's see how often it is mentioned in the text."
   ]
  },
  {
   "cell_type": "code",
   "execution_count": 103,
   "metadata": {
    "colab": {
     "base_uri": "https://localhost:8080/"
    },
    "id": "C1ueub-NLLho",
    "outputId": "8203d0e0-7173-45f9-b470-9c793d0f2731"
   },
   "outputs": [
    {
     "name": "stdout",
     "output_type": "stream",
     "text": [
      "basketbols\n",
      "basketbols\n",
      "basketbols\n"
     ]
    }
   ],
   "source": [
    "for item in text:\n",
    "    if item == \"basketbols\":\n",
    "        print(item)"
   ]
  },
  {
   "cell_type": "code",
   "execution_count": 104,
   "metadata": {
    "colab": {
     "base_uri": "https://localhost:8080/"
    },
    "id": "3ED3hSHhLLhp",
    "outputId": "a35dec49-14f8-47ef-aac3-b2fd7f803df9"
   },
   "outputs": [
    {
     "name": "stdout",
     "output_type": "stream",
     "text": [
      "basketbola\n",
      "basketbola\n",
      "basketbola\n",
      "basketbola\n",
      "basketbola\n",
      "basketbolistes\n",
      "basketbola\n",
      "basketbolisti\n",
      "basketbolisti\n",
      "basketbolistu\n",
      "basketbola\n",
      "basketbolu\n",
      "basketbolisti\n",
      "basketbols\n",
      "basketbola\n",
      "basketbola\n",
      "basketbola\n",
      "basketbolam\n",
      "basketbols\n",
      "basketbols\n",
      "basketbolista\n"
     ]
    }
   ],
   "source": [
    "import regex\n",
    "\n",
    "for item in text:\n",
    "    if regex.match(r\"basket.*\", item):\n",
    "        print(item)"
   ]
  },
  {
   "cell_type": "markdown",
   "metadata": {
    "id": "_3a9rLvkLLhq"
   },
   "source": [
    "**Normalizing text is covered in NLTK Book section 3.6:**\n",
    "https://www.nltk.org/book/ch03.html#sec-normalizing-text\n",
    "\n",
    "We already normalized / converted text to lowercase but that's not enough. \n",
    "\n",
    "We may want to go further and strip off any affixes, a task known as *stemming*. A further step is to make sure that the resulting form is a known word in a dictionary, a task known as *lemmatization*. \n",
    "\n",
    "NLTK offers some stemming and lemmatization functions but they are limited to just some languages (e.g. Latvian is not one of them).\n",
    " \n",
    "https://www.nltk.org/api/nltk.stem.html"
   ]
  },
  {
   "cell_type": "code",
   "execution_count": 105,
   "metadata": {
    "colab": {
     "base_uri": "https://localhost:8080/"
    },
    "id": "hjzPW0TkLLhr",
    "outputId": "3b41d803-ef6c-4767-91f4-111bbd0f45f6"
   },
   "outputs": [
    {
     "name": "stdout",
     "output_type": "stream",
     "text": [
      "denni : listen , strang women lie in pond distribut sword is no basi for a system of govern . suprem execut power deriv from a mandat from the mass , not from some farcic aquat ceremoni . "
     ]
    }
   ],
   "source": [
    "raw = \"\"\"DENNIS: Listen, strange women lying in ponds distributing swords\n",
    "is no basis for a system of government.  Supreme executive power derives from\n",
    "a mandate from the masses, not from some farcical aquatic ceremony.\"\"\"\n",
    "\n",
    "tokens = word_tokenize(raw)\n",
    "\n",
    "porter = nltk.PorterStemmer()\n",
    "\n",
    "for t in tokens:\n",
    "    print(porter.stem(t), end=\" \")"
   ]
  },
  {
   "cell_type": "code",
   "execution_count": 106,
   "metadata": {
    "colab": {
     "base_uri": "https://localhost:8080/"
    },
    "id": "5uZrxsAaZmWd",
    "outputId": "01f40287-1280-4159-85ce-37b47bf74f2b"
   },
   "outputs": [
    {
     "name": "stderr",
     "output_type": "stream",
     "text": [
      "[nltk_data] Downloading package omw-1.4 to\n",
      "[nltk_data]     /Users/captsolo/nltk_data...\n"
     ]
    },
    {
     "data": {
      "text/plain": [
       "True"
      ]
     },
     "execution_count": 106,
     "metadata": {},
     "output_type": "execute_result"
    }
   ],
   "source": [
    "nltk.download('omw-1.4')"
   ]
  },
  {
   "cell_type": "code",
   "execution_count": 107,
   "metadata": {
    "colab": {
     "base_uri": "https://localhost:8080/"
    },
    "id": "Z5FUvrqzLLht",
    "outputId": "6e85b84c-e5b1-4db3-e7c6-d35a5a8a6e77"
   },
   "outputs": [
    {
     "name": "stdout",
     "output_type": "stream",
     "text": [
      "DENNIS : Listen , strange woman lying in pond distributing sword is no basis for a system of government . Supreme executive power derives from a mandate from the mass , not from some farcical aquatic ceremony . "
     ]
    }
   ],
   "source": [
    "from nltk.stem import WordNetLemmatizer\n",
    "wnl = WordNetLemmatizer()\n",
    "\n",
    "for t in tokens:\n",
    "    print(wnl.lemmatize(t), end=\" \")"
   ]
  },
  {
   "cell_type": "markdown",
   "metadata": {
    "id": "D0cqJFhkLLhu"
   },
   "source": [
    "If the language of our text is not supported by NLTK we can use another library: \n",
    "\n",
    "simplemma: https://pypi.org/project/simplemma/\n",
    "\n",
    "More information: [A simple multilingual lemmatizer for Python](https://adrien.barbaresi.eu/blog/simple-multilingual-lemmatizer-python.html)\n"
   ]
  },
  {
   "cell_type": "code",
   "execution_count": 108,
   "metadata": {
    "colab": {
     "base_uri": "https://localhost:8080/"
    },
    "id": "gN-a1B_WLLhv",
    "outputId": "4ab6752e-86ef-4982-ad43-b44dd5bcc9e0"
   },
   "outputs": [
    {
     "name": "stdout",
     "output_type": "stream",
     "text": [
      "Collecting simplemma\n",
      "  Downloading simplemma-0.9.1-py3-none-any.whl (75.5 MB)\n",
      "\u001b[2K     \u001b[90m━━━━━━━━━━━━━━━━━━━━━━━━━━━━━━━━━━━━━━━━\u001b[0m \u001b[32m75.5/75.5 MB\u001b[0m \u001b[31m7.8 MB/s\u001b[0m eta \u001b[36m0:00:00\u001b[0m:00:01\u001b[0m00:01\u001b[0m\n",
      "\u001b[?25hInstalling collected packages: simplemma\n",
      "Successfully installed simplemma-0.9.1\n",
      "\u001b[33mWARNING: You are using pip version 22.0.4; however, version 23.2 is available.\n",
      "You should consider upgrading via the '/Users/captsolo/_changed_stuff_/Code/BSSDH_2023_beginners/venv/bin/python -m pip install --upgrade pip' command.\u001b[0m\u001b[33m\n",
      "\u001b[0m"
     ]
    }
   ],
   "source": [
    "# we may need to install simplemma first (uncomment the following line to do that)\n",
    "!pip install simplemma"
   ]
  },
  {
   "cell_type": "code",
   "execution_count": 109,
   "metadata": {
    "id": "Y63TrZpuLLhw"
   },
   "outputs": [],
   "source": [
    "import simplemma as sl"
   ]
  },
  {
   "cell_type": "code",
   "execution_count": 110,
   "metadata": {
    "colab": {
     "base_uri": "https://localhost:8080/"
    },
    "id": "KGicI8DjLLhw",
    "outputId": "4e5163c6-1e7c-4883-a338-47065856cfbf"
   },
   "outputs": [
    {
     "name": "stdout",
     "output_type": "stream",
     "text": [
      "DENNIS : listen , strange woman lie in pond distribute sword be no basis for a system of government . supreme executive power derive from a mandate from the masse , not from some farcical aquatic ceremony . "
     ]
    }
   ],
   "source": [
    "for t in tokens:\n",
    "    print(sl.lemmatize(t, lang=\"en\"), end=\" \")"
   ]
  },
  {
   "cell_type": "code",
   "execution_count": 111,
   "metadata": {
    "colab": {
     "base_uri": "https://localhost:8080/"
    },
    "id": "Xj0wFS3GbYce",
    "outputId": "16dfa6ae-064d-4acf-9512-1f2c4f07df37"
   },
   "outputs": [
    {
     "data": {
      "text/plain": [
       "nltk.text.Text"
      ]
     },
     "execution_count": 111,
     "metadata": {},
     "output_type": "execute_result"
    }
   ],
   "source": [
    "type(text)"
   ]
  },
  {
   "cell_type": "code",
   "execution_count": 112,
   "metadata": {
    "colab": {
     "base_uri": "https://localhost:8080/"
    },
    "id": "L3OP1XEXbbTA",
    "outputId": "b17ef39e-2f51-4daa-aab2-b334dce77052"
   },
   "outputs": [
    {
     "data": {
      "text/plain": [
       "231729"
      ]
     },
     "execution_count": 112,
     "metadata": {},
     "output_type": "execute_result"
    }
   ],
   "source": [
    "len(text)"
   ]
  },
  {
   "cell_type": "code",
   "execution_count": 113,
   "metadata": {
    "colab": {
     "base_uri": "https://localhost:8080/"
    },
    "id": "Jwb8_UOJLLhw",
    "outputId": "b558646f-8d1c-400b-d179-41dedfe313a7"
   },
   "outputs": [
    {
     "data": {
      "text/plain": [
       "['kad',\n",
       " 'maz',\n",
       " 'naudas',\n",
       " 'veselības',\n",
       " 'aprūpei',\n",
       " 'idejas',\n",
       " ',',\n",
       " 'kā',\n",
       " 'palīdzēt',\n",
       " 'skola',\n",
       " ',',\n",
       " 'uzņēmējiem',\n",
       " 'rodoties',\n",
       " 'vēl',\n",
       " 'un',\n",
       " 'vēl',\n",
       " ',',\n",
       " 'tagad',\n",
       " 'kopīgi',\n",
       " 'ar']"
      ]
     },
     "execution_count": 113,
     "metadata": {},
     "output_type": "execute_result"
    }
   ],
   "source": [
    "buf = []\n",
    "\n",
    "for item in text[:100]:\n",
    "    buf.append(sl.lemmatize(item, lang=\"lt\"))\n",
    "               \n",
    "buf[:20]"
   ]
  },
  {
   "cell_type": "code",
   "execution_count": 114,
   "metadata": {
    "colab": {
     "base_uri": "https://localhost:8080/"
    },
    "id": "GHWeBgxCehg7",
    "outputId": "72eec3f3-6e80-4c96-af4f-f62732d8d2bc"
   },
   "outputs": [
    {
     "ename": "ModuleNotFoundError",
     "evalue": "No module named 'google'",
     "output_type": "error",
     "traceback": [
      "\u001b[0;31m---------------------------------------------------------------------------\u001b[0m",
      "\u001b[0;31mModuleNotFoundError\u001b[0m                       Traceback (most recent call last)",
      "Cell \u001b[0;32mIn[114], line 1\u001b[0m\n\u001b[0;32m----> 1\u001b[0m \u001b[38;5;28;01mfrom\u001b[39;00m \u001b[38;5;21;01mgoogle\u001b[39;00m\u001b[38;5;21;01m.\u001b[39;00m\u001b[38;5;21;01mcolab\u001b[39;00m \u001b[38;5;28;01mimport\u001b[39;00m drive\n\u001b[1;32m      2\u001b[0m drive\u001b[38;5;241m.\u001b[39mmount(\u001b[38;5;124m'\u001b[39m\u001b[38;5;124m/content/drive\u001b[39m\u001b[38;5;124m'\u001b[39m)\n",
      "\u001b[0;31mModuleNotFoundError\u001b[0m: No module named 'google'"
     ]
    }
   ],
   "source": [
    "from google.colab import drive\n",
    "drive.mount('/content/drive')"
   ]
  },
  {
   "cell_type": "code",
   "execution_count": null,
   "metadata": {
    "id": "GYN-mN9vc-m8"
   },
   "outputs": [],
   "source": []
  },
  {
   "cell_type": "code",
   "execution_count": null,
   "metadata": {
    "id": "YGtS-LlyLLhx"
   },
   "outputs": [],
   "source": [
    "text_new = nltk.Text(buf)"
   ]
  },
  {
   "cell_type": "code",
   "execution_count": null,
   "metadata": {
    "colab": {
     "base_uri": "https://localhost:8080/"
    },
    "id": "je417o6OdAVr",
    "outputId": "f4ee976b-9806-4ba8-99b8-198f34cdd8fd"
   },
   "outputs": [],
   "source": [
    "text_new.concordance(\"Rīga\")"
   ]
  },
  {
   "cell_type": "code",
   "execution_count": null,
   "metadata": {
    "colab": {
     "base_uri": "https://localhost:8080/"
    },
    "id": "Vqfa8jLkdeY4",
    "outputId": "dda52ea0-18d9-4baf-c4f0-d3469813ea0c"
   },
   "outputs": [],
   "source": [
    "text.concordance(\"Rīg[aāu]\")\n"
   ]
  },
  {
   "cell_type": "code",
   "execution_count": null,
   "metadata": {
    "colab": {
     "base_uri": "https://localhost:8080/",
     "height": 295
    },
    "id": "mxRrZuGzLLhx",
    "outputId": "4925b62e-1a2c-4248-d8c8-82676e210963"
   },
   "outputs": [],
   "source": [
    "text_new.dispersion_plot(['Latvija', 'basketbols', 'futbols', 'vēlēšanas'])"
   ]
  },
  {
   "cell_type": "markdown",
   "metadata": {
    "id": "PA4CMUHWKh8D"
   },
   "source": [
    "---\n",
    "\n",
    "## Your turn!\n",
    "\n",
    "Choose some text and **explore it using NLTK** (following the examples in this notebook).\n",
    "\n",
    "**Write code in notebook cells below**.\n",
    "* add more cells (use \"+\" icon) if necessary\n",
    "\n",
    "You may use NLTK text corpora or load your own text."
   ]
  },
  {
   "cell_type": "code",
   "execution_count": null,
   "metadata": {
    "colab": {
     "base_uri": "https://localhost:8080/"
    },
    "id": "8s86X2XzKh8D",
    "outputId": "0c4e42ba-2b34-4d99-e0c4-77dcc1852347"
   },
   "outputs": [],
   "source": [
    "with open(\"drive/MyDrive/13177-8.txt\", encoding=\"windows-1252\") as f:\n",
    "    text = f.read()\n",
    "len(text)"
   ]
  },
  {
   "cell_type": "code",
   "execution_count": null,
   "metadata": {
    "colab": {
     "base_uri": "https://localhost:8080/",
     "height": 53
    },
    "id": "7lPrapprKh8D",
    "outputId": "44f53569-05b0-4a3d-b34c-a0ae0e711527"
   },
   "outputs": [],
   "source": [
    "text[:100]"
   ]
  },
  {
   "cell_type": "code",
   "execution_count": null,
   "metadata": {
    "colab": {
     "base_uri": "https://localhost:8080/"
    },
    "id": "E9gCpF3qKh8D",
    "outputId": "1f3f3035-9844-4766-d2db-20b6256bd321"
   },
   "outputs": [],
   "source": [
    "lower_case = text.lower()\n",
    "tokens = word_tokenize(lower_case)\n",
    "len(tokens)"
   ]
  },
  {
   "cell_type": "code",
   "execution_count": null,
   "metadata": {
    "id": "tlgoE7WhfL71"
   },
   "outputs": [],
   "source": [
    "cookbook = nltk.Text(tokens)\n"
   ]
  },
  {
   "cell_type": "code",
   "execution_count": null,
   "metadata": {
    "colab": {
     "base_uri": "https://localhost:8080/"
    },
    "id": "mGwcgv3SfQVV",
    "outputId": "cd555180-d300-4b50-d100-a542b78cc6c3"
   },
   "outputs": [],
   "source": [
    "cookbook.count(\"chocolate\")"
   ]
  },
  {
   "cell_type": "code",
   "execution_count": null,
   "metadata": {
    "colab": {
     "base_uri": "https://localhost:8080/",
     "height": 295
    },
    "id": "JEaCKdWtfetJ",
    "outputId": "506a87a2-14e0-46e6-c7b5-0816f63ee1eb"
   },
   "outputs": [],
   "source": [
    "cookbook.dispersion_plot([\"milk\", \"cookie\", \"chocolate\",\"water\", \"cream\"])"
   ]
  }
 ],
 "metadata": {
  "colab": {
   "name": "NLTK_Introduction.ipynb",
   "provenance": []
  },
  "kernelspec": {
   "display_name": "Python 3 (ipykernel)",
   "language": "python",
   "name": "python3"
  },
  "language_info": {
   "codemirror_mode": {
    "name": "ipython",
    "version": 3
   },
   "file_extension": ".py",
   "mimetype": "text/x-python",
   "name": "python",
   "nbconvert_exporter": "python",
   "pygments_lexer": "ipython3",
   "version": "3.9.16"
  }
 },
 "nbformat": 4,
 "nbformat_minor": 1
}
