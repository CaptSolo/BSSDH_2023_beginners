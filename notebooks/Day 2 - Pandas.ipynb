{
 "cells": [
  {
   "cell_type": "markdown",
   "id": "abd01521",
   "metadata": {
    "id": "abd01521"
   },
   "source": [
    "# Reading Data, Pandas\n",
    "\n",
    "There are various file formats, how do we make a sense of them all?\n",
    "\n",
    "* There are archive/compression formats such as .zip, .rar, .7z, .tar those hold other files.\n",
    "* There are text formats such as .txt, .csv, .json, .tsv - those can be read by humans in a text editor\n",
    "* There are binary formats such as .exe, .jpg, .png - those are not human readable"
   ]
  },
  {
   "cell_type": "markdown",
   "id": "06bf08d1",
   "metadata": {
    "id": "06bf08d1"
   },
   "source": [
    "### Reading text files\n",
    "\n",
    "In this section we will read a simple text file."
   ]
  },
  {
   "cell_type": "code",
   "execution_count": null,
   "id": "ac177026",
   "metadata": {
    "id": "ac177026"
   },
   "outputs": [],
   "source": [
    "filename = \"alice_wonderland.txt\""
   ]
  },
  {
   "cell_type": "code",
   "execution_count": null,
   "id": "0bdded79",
   "metadata": {
    "id": "0bdded79"
   },
   "outputs": [],
   "source": [
    "# open the file in current directory for reading\n",
    "file_1 = open(filename)\n",
    "\n",
    "# read contents of the file\n",
    "data = file_1.read()\n",
    "\n",
    "# close the file\n",
    "file_1.close()"
   ]
  },
  {
   "cell_type": "code",
   "execution_count": null,
   "id": "241a0c69",
   "metadata": {},
   "outputs": [],
   "source": [
    "# a better way (automatically closing the open file)\n",
    "\n",
    "with open(filename) as file_1:   \n",
    "    data = file_1.read()"
   ]
  },
  {
   "cell_type": "markdown",
   "id": "0c5b67e7",
   "metadata": {
    "id": "0c5b67e7"
   },
   "source": [
    "### Google Colab\n",
    "\n",
    "Note: The above action (reading a local file) will fail if you execute it in Google Colab. \n",
    "\n",
    "We can open it from a remote web location (from Github) instead. Let's use the `requests` library:"
   ]
  },
  {
   "cell_type": "code",
   "execution_count": null,
   "id": "2db22d13",
   "metadata": {
    "id": "2db22d13"
   },
   "outputs": [],
   "source": [
    "import requests\n",
    "\n",
    "url = \"https://raw.githubusercontent.com/CaptSolo/BSSDH_2023_beginners/main/notebooks/\" + filename\n",
    "\n",
    "response = requests.get(url)\n",
    "data = response.text"
   ]
  },
  {
   "cell_type": "markdown",
   "id": "be1a8bd4",
   "metadata": {},
   "source": [
    "### Let's continue\n"
   ]
  },
  {
   "cell_type": "code",
   "execution_count": null,
   "id": "56c83bfd",
   "metadata": {
    "colab": {
     "base_uri": "https://localhost:8080/"
    },
    "id": "56c83bfd",
    "outputId": "1e38cbc2-253f-4b16-f123-786160c1c7df"
   },
   "outputs": [],
   "source": [
    "# print the first 100 characters of the file\n",
    "print(data[:100])"
   ]
  },
  {
   "cell_type": "code",
   "execution_count": null,
   "id": "30b91449",
   "metadata": {
    "id": "30b91449"
   },
   "outputs": [],
   "source": [
    "# split text into tokens (words)\n",
    "words = data.split()"
   ]
  },
  {
   "cell_type": "code",
   "execution_count": null,
   "id": "e6a4c041",
   "metadata": {
    "id": "e6a4c041",
    "outputId": "20d1943f-439b-4638-8dd6-4ae12cb9a963"
   },
   "outputs": [],
   "source": [
    "# count the number of tokens in text\n",
    "\n",
    "print(len(words))"
   ]
  },
  {
   "cell_type": "code",
   "execution_count": null,
   "id": "6696dd23",
   "metadata": {
    "id": "6696dd23",
    "outputId": "417a5525-8f4c-4237-a709-2e4a4407f65d"
   },
   "outputs": [],
   "source": [
    "# print the first 50 tokens\n",
    "print(words[:50])"
   ]
  },
  {
   "cell_type": "markdown",
   "id": "63f41a77",
   "metadata": {
    "id": "63f41a77"
   },
   "source": [
    "### Counting word frequency\n",
    "\n",
    "Here we will use Python's Counter object (from Python collections library) to determine word frequency of the text. \n",
    "\n",
    "https://docs.python.org/3/library/collections.html#collections.Counter"
   ]
  },
  {
   "cell_type": "code",
   "execution_count": null,
   "id": "e3391228",
   "metadata": {
    "id": "e3391228"
   },
   "outputs": [],
   "source": [
    "from collections import Counter"
   ]
  },
  {
   "cell_type": "code",
   "execution_count": null,
   "id": "ac286d47",
   "metadata": {
    "id": "ac286d47"
   },
   "outputs": [],
   "source": [
    "c = Counter(words)"
   ]
  },
  {
   "cell_type": "code",
   "execution_count": null,
   "id": "2b41935a",
   "metadata": {
    "id": "2b41935a",
    "outputId": "5a49e01f-f2f7-4dcb-c40e-be279e075fc6"
   },
   "outputs": [],
   "source": [
    "# print the 20 most common words (tokens)\n",
    "print(c.most_common(20))"
   ]
  },
  {
   "cell_type": "code",
   "execution_count": null,
   "id": "de34be2e",
   "metadata": {
    "id": "de34be2e",
    "outputId": "21e9bd65-9631-4839-989d-22781b51b0ae"
   },
   "outputs": [],
   "source": [
    "# a nicer way of printing counter results using a *for* cycle\n",
    "\n",
    "for token, count in c.most_common(20):\n",
    "    print(f\"{token}: {count}\")\n"
   ]
  },
  {
   "cell_type": "markdown",
   "id": "5ecf4f58",
   "metadata": {
    "id": "5ecf4f58"
   },
   "source": [
    "Notice how words may appear in both lowercase (\"the\") and uppercase (\"The\"). You may want to normalize the text by converting it all to lowercase and do other clean-up steps. "
   ]
  },
  {
   "cell_type": "markdown",
   "id": "f49d1d0b",
   "metadata": {
    "id": "f49d1d0b"
   },
   "source": [
    "### Reading TSV files\n",
    "\n",
    "Corpora that we could work with are located in archived TSV (Tab-separated-values) files:\n",
    "https://github.com/CaptSolo/BSSDH_2023_beginners/tree/main/corpora\n",
    "\n",
    "These files consist of rows (records) that contain one or more values separated by \"Tab\" characters.\n",
    "\n",
    "We will use Pandas library to read a TSV file that contains a smaller version of the \"lv_old_newspapers.zip\" corpus: https://github.com/CaptSolo/BSSDH_2023_beginners/blob/main/corpora/lv_old_newspapers_5k.tsv\n",
    "\n",
    "You may also use a TSV file for an English newspaper corpus (with slightly different column names): https://github.com/CaptSolo/BSSDH_2023_beginners/blob/main/corpora/en_old_newspapers_5k.tsv"
   ]
  },
  {
   "cell_type": "code",
   "execution_count": 3,
   "id": "5194e455",
   "metadata": {
    "id": "5194e455"
   },
   "outputs": [],
   "source": [
    "import pandas\n",
    "\n",
    "# common alternative \n",
    "# import pandas as pd\n",
    "# this would let you save 4 characters each time you need some pandas functionality you would write pd instead of pandas"
   ]
  },
  {
   "cell_type": "code",
   "execution_count": null,
   "id": "787b4e8f",
   "metadata": {
    "id": "787b4e8f"
   },
   "outputs": [],
   "source": [
    "# if you downloaded and unarchived the whole Github repository \n",
    "# this is where you will find the lv_old_newspapers_5k.tsv file:\n",
    "\n",
    "filename = \"../corpora/lv_old_newspapers_5k.tsv\""
   ]
  },
  {
   "cell_type": "code",
   "execution_count": null,
   "id": "694238e0",
   "metadata": {
    "colab": {
     "base_uri": "https://localhost:8080/",
     "height": 387
    },
    "id": "694238e0",
    "outputId": "935c4700-137f-42ec-fa7c-c1e40c60e63c"
   },
   "outputs": [],
   "source": [
    "# read the tab-separated file (\"sep\" parameter tells Pandas that values in the file\n",
    "# are separated with the \"tab\" character.\n",
    "\n",
    "df_1 = pandas.read_csv(filename, sep=\"\\t\") # instead of df_1 we could use another name for our variable"
   ]
  },
  {
   "cell_type": "markdown",
   "id": "89655e67",
   "metadata": {
    "id": "89655e67"
   },
   "source": [
    "#### Google Colab\n",
    "\n",
    "Note: The above action (reading a local file) will fail if you execute it in Google Colab.\n",
    "\n",
    "We have two different approaches then:\n",
    "\n",
    "1. Upload file to Google Colab (remember this is temporary). Read it just like you would on a local computer. \n",
    "\n",
    "2. Download file(s) from web address, instead of file path we will use its web addrss (URL)"
   ]
  },
  {
   "cell_type": "code",
   "execution_count": null,
   "id": "q-lAt9XM54mF",
   "metadata": {
    "colab": {
     "base_uri": "https://localhost:8080/",
     "height": 206
    },
    "id": "q-lAt9XM54mF",
    "outputId": "fc5e2488-7ba7-4a3f-f32a-ebf5fa36cc81"
   },
   "outputs": [],
   "source": [
    "# Approach 1\n",
    "# Assuming file has been uploaded it will be found in current directory\n",
    "\n",
    "file_path = \"lv_old_newspapers_5k.tsv\"\n",
    "\n",
    "df_1 = pandas.read_csv(file_path, sep=\"\\t\")\n",
    "\n",
    "# print the first lines of the file\n",
    "df_1.head()"
   ]
  },
  {
   "cell_type": "code",
   "execution_count": 108,
   "id": "69605e00",
   "metadata": {
    "colab": {
     "base_uri": "https://localhost:8080/",
     "height": 206
    },
    "id": "69605e00",
    "outputId": "bad16782-8d8c-4e76-fac2-5c8840917cb5"
   },
   "outputs": [
    {
     "data": {
      "text/html": [
       "<div>\n",
       "<style scoped>\n",
       "    .dataframe tbody tr th:only-of-type {\n",
       "        vertical-align: middle;\n",
       "    }\n",
       "\n",
       "    .dataframe tbody tr th {\n",
       "        vertical-align: top;\n",
       "    }\n",
       "\n",
       "    .dataframe thead th {\n",
       "        text-align: right;\n",
       "    }\n",
       "</style>\n",
       "<table border=\"1\" class=\"dataframe\">\n",
       "  <thead>\n",
       "    <tr style=\"text-align: right;\">\n",
       "      <th></th>\n",
       "      <th>Language</th>\n",
       "      <th>Source</th>\n",
       "      <th>Date</th>\n",
       "      <th>Text</th>\n",
       "    </tr>\n",
       "  </thead>\n",
       "  <tbody>\n",
       "    <tr>\n",
       "      <th>0</th>\n",
       "      <td>Latvian</td>\n",
       "      <td>rekurzeme.lv</td>\n",
       "      <td>2008/09/04</td>\n",
       "      <td>\"Viņa pirmsnāves zīmītē bija rakstīts vienīgi ...</td>\n",
       "    </tr>\n",
       "    <tr>\n",
       "      <th>1</th>\n",
       "      <td>Latvian</td>\n",
       "      <td>diena.lv</td>\n",
       "      <td>2012/01/10</td>\n",
       "      <td>info@zurnalistiem.lv</td>\n",
       "    </tr>\n",
       "    <tr>\n",
       "      <th>2</th>\n",
       "      <td>Latvian</td>\n",
       "      <td>bauskasdzive.lv</td>\n",
       "      <td>2007/12/27</td>\n",
       "      <td>Bhuto, kas Pakistānā no trimdas atgriezās tika...</td>\n",
       "    </tr>\n",
       "    <tr>\n",
       "      <th>3</th>\n",
       "      <td>Latvian</td>\n",
       "      <td>bauskasdzive.lv</td>\n",
       "      <td>2008/10/08</td>\n",
       "      <td>Plkst. 4.00 Samoilovs / Pļaviņš (pludmales vol...</td>\n",
       "    </tr>\n",
       "    <tr>\n",
       "      <th>4</th>\n",
       "      <td>Latvian</td>\n",
       "      <td>diena.lv</td>\n",
       "      <td>2011/10/05</td>\n",
       "      <td>CVK bija vērsusies Skaburska, lūdzot izskaidro...</td>\n",
       "    </tr>\n",
       "  </tbody>\n",
       "</table>\n",
       "</div>"
      ],
      "text/plain": [
       "  Language           Source        Date  \\\n",
       "0  Latvian     rekurzeme.lv  2008/09/04   \n",
       "1  Latvian         diena.lv  2012/01/10   \n",
       "2  Latvian  bauskasdzive.lv  2007/12/27   \n",
       "3  Latvian  bauskasdzive.lv  2008/10/08   \n",
       "4  Latvian         diena.lv  2011/10/05   \n",
       "\n",
       "                                                Text  \n",
       "0  \"Viņa pirmsnāves zīmītē bija rakstīts vienīgi ...  \n",
       "1                               info@zurnalistiem.lv  \n",
       "2  Bhuto, kas Pakistānā no trimdas atgriezās tika...  \n",
       "3  Plkst. 4.00 Samoilovs / Pļaviņš (pludmales vol...  \n",
       "4  CVK bija vērsusies Skaburska, lūdzot izskaidro...  "
      ]
     },
     "execution_count": 108,
     "metadata": {},
     "output_type": "execute_result"
    }
   ],
   "source": [
    "# Approach 2 reading from a web address \n",
    "url = \"https://raw.githubusercontent.com/CaptSolo/BSSDH_2023_beginners/main/corpora/lv_old_newspapers_5k.tsv\"\n",
    "\n",
    "# ... or you could use the English corpus instead:\n",
    "# url = \"https://raw.githubusercontent.com/CaptSolo/BSSDH_2023_beginners/main/corpora/en_old_newspapers_5k.tsv\"\n",
    "\n",
    "df_2 = pandas.read_csv(url, sep=\"\\t\")\n",
    "\n",
    "# print the first lines of the file\n",
    "df_2.head()"
   ]
  },
  {
   "cell_type": "code",
   "execution_count": 109,
   "id": "37da982b",
   "metadata": {},
   "outputs": [
    {
     "data": {
      "text/html": [
       "<div>\n",
       "<style scoped>\n",
       "    .dataframe tbody tr th:only-of-type {\n",
       "        vertical-align: middle;\n",
       "    }\n",
       "\n",
       "    .dataframe tbody tr th {\n",
       "        vertical-align: top;\n",
       "    }\n",
       "\n",
       "    .dataframe thead th {\n",
       "        text-align: right;\n",
       "    }\n",
       "</style>\n",
       "<table border=\"1\" class=\"dataframe\">\n",
       "  <thead>\n",
       "    <tr style=\"text-align: right;\">\n",
       "      <th></th>\n",
       "      <th>Language</th>\n",
       "      <th>Source</th>\n",
       "      <th>Date</th>\n",
       "      <th>Text</th>\n",
       "    </tr>\n",
       "  </thead>\n",
       "  <tbody>\n",
       "    <tr>\n",
       "      <th>count</th>\n",
       "      <td>4999</td>\n",
       "      <td>4999</td>\n",
       "      <td>4999</td>\n",
       "      <td>4999</td>\n",
       "    </tr>\n",
       "    <tr>\n",
       "      <th>unique</th>\n",
       "      <td>1</td>\n",
       "      <td>13</td>\n",
       "      <td>1428</td>\n",
       "      <td>4999</td>\n",
       "    </tr>\n",
       "    <tr>\n",
       "      <th>top</th>\n",
       "      <td>Latvian</td>\n",
       "      <td>diena.lv</td>\n",
       "      <td>2011/12/23</td>\n",
       "      <td>\"Viņa pirmsnāves zīmītē bija rakstīts vienīgi ...</td>\n",
       "    </tr>\n",
       "    <tr>\n",
       "      <th>freq</th>\n",
       "      <td>4999</td>\n",
       "      <td>634</td>\n",
       "      <td>24</td>\n",
       "      <td>1</td>\n",
       "    </tr>\n",
       "  </tbody>\n",
       "</table>\n",
       "</div>"
      ],
      "text/plain": [
       "       Language    Source        Date  \\\n",
       "count      4999      4999        4999   \n",
       "unique        1        13        1428   \n",
       "top     Latvian  diena.lv  2011/12/23   \n",
       "freq       4999       634          24   \n",
       "\n",
       "                                                     Text  \n",
       "count                                                4999  \n",
       "unique                                               4999  \n",
       "top     \"Viņa pirmsnāves zīmītē bija rakstīts vienīgi ...  \n",
       "freq                                                    1  "
      ]
     },
     "execution_count": 109,
     "metadata": {},
     "output_type": "execute_result"
    }
   ],
   "source": [
    "# get the basic statistics of the dataset\n",
    "df_2.describe()"
   ]
  },
  {
   "cell_type": "markdown",
   "id": "09d6aaa5",
   "metadata": {},
   "source": [
    "### Let's continue working with the dataframe (containing a text corpus)"
   ]
  },
  {
   "cell_type": "code",
   "execution_count": null,
   "id": "4bcc2734",
   "metadata": {
    "colab": {
     "base_uri": "https://localhost:8080/"
    },
    "id": "4bcc2734",
    "outputId": "11ecb4bd-d0b8-4b93-e73e-e5f88d8ce9c9"
   },
   "outputs": [],
   "source": [
    "# the size of the corpus:\n",
    "print(len(df_1))"
   ]
  },
  {
   "cell_type": "code",
   "execution_count": null,
   "id": "62c5f4f8",
   "metadata": {
    "colab": {
     "base_uri": "https://localhost:8080/"
    },
    "id": "62c5f4f8",
    "outputId": "05a25c2e-5a39-4a67-a7ab-d786e2015231"
   },
   "outputs": [],
   "source": [
    "# select the Text column, show the first 10 entries\n",
    "\n",
    "df_1[\"Text\"][:10]"
   ]
  },
  {
   "cell_type": "code",
   "execution_count": null,
   "id": "eBJq74i47f-N",
   "metadata": {
    "colab": {
     "base_uri": "https://localhost:8080/"
    },
    "id": "eBJq74i47f-N",
    "outputId": "0adaf4f7-9def-4a13-930e-b7d2eeb00dd4"
   },
   "outputs": [],
   "source": [
    "# we can get ALL of the text in one big string from a pandas column\n",
    "\n",
    "list_of_rows = list(df_1.Text)\n",
    "len(list_of_rows)"
   ]
  },
  {
   "cell_type": "code",
   "execution_count": null,
   "id": "aD-jSYH_7wMe",
   "metadata": {
    "colab": {
     "base_uri": "https://localhost:8080/"
    },
    "id": "aD-jSYH_7wMe",
    "outputId": "4fe0f3b5-441d-4b91-8159-c29fa334f404"
   },
   "outputs": [],
   "source": [
    "# let's see what we have in first 3 rows\n",
    "list_of_rows[:3]"
   ]
  },
  {
   "cell_type": "code",
   "execution_count": null,
   "id": "EA7Nd7sR71zq",
   "metadata": {
    "colab": {
     "base_uri": "https://localhost:8080/",
     "height": 71
    },
    "id": "EA7Nd7sR71zq",
    "outputId": "1c647769-8bc3-476c-e1ed-bc0958ec8bc7"
   },
   "outputs": [],
   "source": [
    "all_text = \"\\n\".join(list_of_rows) # we can join all rows into one big string \n",
    "# separating each document with a newline, but you could choose something else to join with\n",
    "\n",
    "# \"\\n\" means a newline symbol\n",
    "\n",
    "all_text[:250]"
   ]
  },
  {
   "cell_type": "markdown",
   "id": "e28c46d3",
   "metadata": {
    "id": "e28c46d3"
   },
   "source": [
    "### Reading archived files\n",
    "\n",
    "Pandas can also read archived CSV and TSV files."
   ]
  },
  {
   "cell_type": "code",
   "execution_count": null,
   "id": "3d0af606",
   "metadata": {
    "id": "3d0af606"
   },
   "outputs": [],
   "source": [
    "# filename_2 = \"../corpora/lv_old_newspapers.zip\"\n",
    "\n",
    "## read the archived, tab-separated file (\"compression\" parameter tells\n",
    "## Pandas that this is a ZIP archived file).\n",
    "\n",
    "# df_2 = pandas.read_csv(filename_2, sep=\"\\t\", compression=\"zip\")"
   ]
  },
  {
   "cell_type": "markdown",
   "id": "589c131a",
   "metadata": {
    "id": "589c131a"
   },
   "source": [
    "Note: The above action (reading a local file) that is commented out will fail if you execute it in Google Colab.\n",
    "\n",
    "We will use downloading from a remote web location instead (a Github repository in this case):"
   ]
  },
  {
   "cell_type": "code",
   "execution_count": 4,
   "id": "cccef3e2",
   "metadata": {
    "id": "cccef3e2"
   },
   "outputs": [],
   "source": [
    "url_2 = \"https://raw.githubusercontent.com/CaptSolo/BSSDH_2023_beginners/main/corpora/lv_old_newspapers.zip\"\n",
    "\n",
    "df_2 = pandas.read_csv(url_2, sep=\"\\t\", compression=\"zip\")"
   ]
  },
  {
   "cell_type": "code",
   "execution_count": 5,
   "id": "e9587588",
   "metadata": {
    "colab": {
     "base_uri": "https://localhost:8080/"
    },
    "id": "e9587588",
    "outputId": "ddff5277-83b1-4a33-fb15-3d23e692e405"
   },
   "outputs": [
    {
     "name": "stdout",
     "output_type": "stream",
     "text": [
      "319428\n"
     ]
    }
   ],
   "source": [
    "# the size of the corpus:\n",
    "\n",
    "print(len(df_2))"
   ]
  },
  {
   "cell_type": "code",
   "execution_count": 6,
   "id": "6525f55f",
   "metadata": {
    "colab": {
     "base_uri": "https://localhost:8080/",
     "height": 363
    },
    "id": "6525f55f",
    "outputId": "ad09cbde-81b2-42f8-951d-055753794f9d"
   },
   "outputs": [
    {
     "data": {
      "text/html": [
       "<div>\n",
       "<style scoped>\n",
       "    .dataframe tbody tr th:only-of-type {\n",
       "        vertical-align: middle;\n",
       "    }\n",
       "\n",
       "    .dataframe tbody tr th {\n",
       "        vertical-align: top;\n",
       "    }\n",
       "\n",
       "    .dataframe thead th {\n",
       "        text-align: right;\n",
       "    }\n",
       "</style>\n",
       "<table border=\"1\" class=\"dataframe\">\n",
       "  <thead>\n",
       "    <tr style=\"text-align: right;\">\n",
       "      <th></th>\n",
       "      <th>Language</th>\n",
       "      <th>Source</th>\n",
       "      <th>Date</th>\n",
       "      <th>Text</th>\n",
       "    </tr>\n",
       "  </thead>\n",
       "  <tbody>\n",
       "    <tr>\n",
       "      <th>319418</th>\n",
       "      <td>Latvian</td>\n",
       "      <td>bdaugava.lv</td>\n",
       "      <td>2010/01/16</td>\n",
       "      <td>Ceturtdien no rajona padomes ēkas tika svinīgi...</td>\n",
       "    </tr>\n",
       "    <tr>\n",
       "      <th>319419</th>\n",
       "      <td>Latvian</td>\n",
       "      <td>nra.lv</td>\n",
       "      <td>2011/12/21</td>\n",
       "      <td>AFP vēsta, ka naktī uz otrdienu, jau piekto na...</td>\n",
       "    </tr>\n",
       "    <tr>\n",
       "      <th>319420</th>\n",
       "      <td>Latvian</td>\n",
       "      <td>db.lv</td>\n",
       "      <td>2011/12/02</td>\n",
       "      <td>TOP 500 ir vienīgais ikgadējais izdevums Latvi...</td>\n",
       "    </tr>\n",
       "    <tr>\n",
       "      <th>319421</th>\n",
       "      <td>Latvian</td>\n",
       "      <td>diena.lv</td>\n",
       "      <td>2009/12/21</td>\n",
       "      <td>ka pati visu mūžu bijusi saistīta ar šo jomu. ...</td>\n",
       "    </tr>\n",
       "    <tr>\n",
       "      <th>319422</th>\n",
       "      <td>Latvian</td>\n",
       "      <td>la.lv</td>\n",
       "      <td>2011/12/08</td>\n",
       "      <td>Prakse liecina, ka tādos gadījumos tiesu izpil...</td>\n",
       "    </tr>\n",
       "    <tr>\n",
       "      <th>319423</th>\n",
       "      <td>Latvian</td>\n",
       "      <td>ziemellatvija.lv</td>\n",
       "      <td>2008/01/30</td>\n",
       "      <td>Beigu beigās I. Klempere kopā ar dēlu mājās de...</td>\n",
       "    </tr>\n",
       "    <tr>\n",
       "      <th>319424</th>\n",
       "      <td>Latvian</td>\n",
       "      <td>db.lv</td>\n",
       "      <td>2012/01/03</td>\n",
       "      <td>Vienkāršā valodā tas nozīmē, ka investori par ...</td>\n",
       "    </tr>\n",
       "    <tr>\n",
       "      <th>319425</th>\n",
       "      <td>Latvian</td>\n",
       "      <td>la.lv</td>\n",
       "      <td>2011/08/27</td>\n",
       "      <td>– Visi mūsu projekti ir notikuši sadarbībā ar ...</td>\n",
       "    </tr>\n",
       "    <tr>\n",
       "      <th>319426</th>\n",
       "      <td>Latvian</td>\n",
       "      <td>ziemellatvija.lv</td>\n",
       "      <td>2007/03/12</td>\n",
       "      <td>Pole atzina, ka par šo ziņojumu VM saņēmusi li...</td>\n",
       "    </tr>\n",
       "    <tr>\n",
       "      <th>319427</th>\n",
       "      <td>Latvian</td>\n",
       "      <td>bauskasdzive.lv</td>\n",
       "      <td>2011/07/07</td>\n",
       "      <td>Trešdienas, 6. jūlija, vakarā projekta vadītāj...</td>\n",
       "    </tr>\n",
       "  </tbody>\n",
       "</table>\n",
       "</div>"
      ],
      "text/plain": [
       "       Language            Source        Date  \\\n",
       "319418  Latvian       bdaugava.lv  2010/01/16   \n",
       "319419  Latvian            nra.lv  2011/12/21   \n",
       "319420  Latvian             db.lv  2011/12/02   \n",
       "319421  Latvian          diena.lv  2009/12/21   \n",
       "319422  Latvian             la.lv  2011/12/08   \n",
       "319423  Latvian  ziemellatvija.lv  2008/01/30   \n",
       "319424  Latvian             db.lv  2012/01/03   \n",
       "319425  Latvian             la.lv  2011/08/27   \n",
       "319426  Latvian  ziemellatvija.lv  2007/03/12   \n",
       "319427  Latvian   bauskasdzive.lv  2011/07/07   \n",
       "\n",
       "                                                     Text  \n",
       "319418  Ceturtdien no rajona padomes ēkas tika svinīgi...  \n",
       "319419  AFP vēsta, ka naktī uz otrdienu, jau piekto na...  \n",
       "319420  TOP 500 ir vienīgais ikgadējais izdevums Latvi...  \n",
       "319421  ka pati visu mūžu bijusi saistīta ar šo jomu. ...  \n",
       "319422  Prakse liecina, ka tādos gadījumos tiesu izpil...  \n",
       "319423  Beigu beigās I. Klempere kopā ar dēlu mājās de...  \n",
       "319424  Vienkāršā valodā tas nozīmē, ka investori par ...  \n",
       "319425  – Visi mūsu projekti ir notikuši sadarbībā ar ...  \n",
       "319426  Pole atzina, ka par šo ziņojumu VM saņēmusi li...  \n",
       "319427  Trešdienas, 6. jūlija, vakarā projekta vadītāj...  "
      ]
     },
     "execution_count": 6,
     "metadata": {},
     "output_type": "execute_result"
    }
   ],
   "source": [
    "# show the last 10 entries\n",
    "\n",
    "df_2.tail(10)"
   ]
  },
  {
   "cell_type": "code",
   "execution_count": 7,
   "id": "f0e6d8e9",
   "metadata": {},
   "outputs": [
    {
     "data": {
      "text/plain": [
       "Language                                              Latvian\n",
       "Source                                        bauskasdzive.lv\n",
       "Date                                               2005/04/27\n",
       "Text        ! Apsēdies, atpūties, centies noorientēties ap...\n",
       "dtype: object"
      ]
     },
     "execution_count": 7,
     "metadata": {},
     "output_type": "execute_result"
    }
   ],
   "source": [
    "# Sorting the dataset\n",
    "df_2.sort_values(by=[\"Date\"])\n",
    "\n",
    "# Minimum value\n",
    "df_2.min()"
   ]
  },
  {
   "cell_type": "code",
   "execution_count": 8,
   "id": "e0822def",
   "metadata": {},
   "outputs": [
    {
     "data": {
      "text/plain": [
       "Language                                              Latvian\n",
       "Source                                                  zz.lv\n",
       "Date                                               2012/01/14\n",
       "Text        ♦ virsseržants Pēteris Tetērins, jaunākais ins...\n",
       "dtype: object"
      ]
     },
     "execution_count": 8,
     "metadata": {},
     "output_type": "execute_result"
    }
   ],
   "source": [
    "# Maximum value\n",
    "df_2.max()"
   ]
  },
  {
   "cell_type": "markdown",
   "id": "_HsCDJ8i8gZc",
   "metadata": {
    "id": "_HsCDJ8i8gZc"
   },
   "source": [
    "##  Reading other formats\n",
    "\n",
    "Pandas supports a wide variety of file formats\n",
    "\n",
    "Full list of formats is available here: https://pandas.pydata.org/pandas-docs/stable/user_guide/io.html\n",
    "\n",
    "For example to read Excel files you would use my_dataframe = pandas.read_excel(filepath)\n",
    "where filepath would be a string with file location or web address"
   ]
  },
  {
   "cell_type": "markdown",
   "id": "Q4zGUWlX9TvF",
   "metadata": {
    "id": "Q4zGUWlX9TvF"
   },
   "source": [
    "## Task - read data into a dataframe from file\n",
    "\n",
    "We have 4 different corpora for you to use.\n",
    "\n",
    "Web addresses:\n",
    "\n",
    "* English - https://raw.githubusercontent.com/CaptSolo/BSSDH_2023_beginners/main/corpora/en_old_newspapers_5k.tsv\n",
    "* Estonian - https://raw.githubusercontent.com/CaptSolo/BSSDH_2023_beginners/main/corpora/ee_old_newspapers.zip\n",
    "* Latvian - https://raw.githubusercontent.com/CaptSolo/BSSDH_2023_beginners/main/corpora/lv_old_newspapers.zip\n",
    "* Ukrainian - https://raw.githubusercontent.com/CaptSolo/BSSDH_2023_beginners/main/corpora/ua_old_newspapers.zip\n",
    "\n",
    "Load one of them in a dataframe. Check the length, shape, sort them, see the first 15 entries and the last 20 entries."
   ]
  },
  {
   "cell_type": "code",
   "execution_count": null,
   "id": "af637a06",
   "metadata": {},
   "outputs": [],
   "source": []
  },
  {
   "cell_type": "code",
   "execution_count": null,
   "id": "8bafb665",
   "metadata": {},
   "outputs": [],
   "source": []
  },
  {
   "cell_type": "code",
   "execution_count": null,
   "id": "95dfc9fd",
   "metadata": {},
   "outputs": [],
   "source": []
  },
  {
   "cell_type": "markdown",
   "id": "22ed938d",
   "metadata": {},
   "source": [
    "# Visualizing data\n"
   ]
  },
  {
   "cell_type": "code",
   "execution_count": 9,
   "id": "6c4f471a",
   "metadata": {},
   "outputs": [],
   "source": [
    "# https://dariuslfuller.medium.com/creating-visuals-with-nltks-freqdist-ac4e667e49f3\n",
    "\n",
    "from nltk import FreqDist\n",
    "\n",
    "all_text = \"\\n\".join(df_2[\"Text\"]).split()\n",
    "all_fdist = FreqDist(all_text).most_common(20)"
   ]
  },
  {
   "cell_type": "code",
   "execution_count": 10,
   "id": "1c75ed8e",
   "metadata": {},
   "outputs": [
    {
     "data": {
      "text/plain": [
       "[('un', 343847),\n",
       " ('ir', 196132),\n",
       " ('ka', 140640),\n",
       " ('ar', 133002),\n",
       " ('par', 131573),\n",
       " ('arī', 108373),\n",
       " ('no', 105145),\n",
       " ('-', 76014),\n",
       " ('kas', 66805),\n",
       " ('kā', 64564),\n",
       " ('uz', 64063),\n",
       " ('bet', 53753),\n",
       " ('bija', 44710),\n",
       " ('vai', 44007),\n",
       " ('nav', 43423),\n",
       " ('–', 41918),\n",
       " ('gan', 37674),\n",
       " ('līdz', 36964),\n",
       " ('jau', 36694),\n",
       " ('to', 35795)]"
      ]
     },
     "execution_count": 10,
     "metadata": {},
     "output_type": "execute_result"
    }
   ],
   "source": [
    "all_fdist"
   ]
  },
  {
   "cell_type": "code",
   "execution_count": 11,
   "id": "125db8c1",
   "metadata": {},
   "outputs": [],
   "source": [
    "# converting data to Pandas series\n",
    "all_fdist = pandas.Series(dict(all_fdist))"
   ]
  },
  {
   "cell_type": "code",
   "execution_count": 12,
   "id": "38b4fca4",
   "metadata": {},
   "outputs": [
    {
     "data": {
      "text/plain": [
       "un      343847\n",
       "ir      196132\n",
       "ka      140640\n",
       "ar      133002\n",
       "par     131573\n",
       "arī     108373\n",
       "no      105145\n",
       "-        76014\n",
       "kas      66805\n",
       "kā       64564\n",
       "uz       64063\n",
       "bet      53753\n",
       "bija     44710\n",
       "vai      44007\n",
       "nav      43423\n",
       "–        41918\n",
       "gan      37674\n",
       "līdz     36964\n",
       "jau      36694\n",
       "to       35795\n",
       "dtype: int64"
      ]
     },
     "execution_count": 12,
     "metadata": {},
     "output_type": "execute_result"
    }
   ],
   "source": [
    "all_fdist"
   ]
  },
  {
   "cell_type": "code",
   "execution_count": 13,
   "id": "5599b5e7",
   "metadata": {},
   "outputs": [],
   "source": [
    "import matplotlib.pyplot as plt\n",
    "import seaborn as sns"
   ]
  },
  {
   "cell_type": "code",
   "execution_count": 22,
   "id": "f3c5d3bd",
   "metadata": {},
   "outputs": [],
   "source": [
    "## setting up a visualization (figure size)\n",
    "#fig, ax = plt.subplots(figsize=(10,10))"
   ]
  },
  {
   "cell_type": "code",
   "execution_count": 26,
   "id": "79d95cef",
   "metadata": {},
   "outputs": [
    {
     "data": {
      "image/png": "[encoded data removed]",
      "text/plain": [
       "<Figure size 640x480 with 1 Axes>"
      ]
     },
     "metadata": {},
     "output_type": "display_data"
    }
   ],
   "source": [
    "## Matplotlib plot using Pandas attributes + xtick rotation for ease of viewing\n",
    "\n",
    "#all_plot = plt.bar(x=all_fdist.index, y=all_fdist.values, ax=ax)\n",
    "all_plot = plt.bar(all_fdist.index, all_fdist.values)\n",
    "plt.xticks(rotation=40);"
   ]
  },
  {
   "cell_type": "code",
   "execution_count": 37,
   "id": "59a9b8e9",
   "metadata": {},
   "outputs": [
    {
     "name": "stdout",
     "output_type": "stream",
     "text": [
      "['aiz', 'ap', 'ar', 'apakš', 'ārpus', 'augšpus', 'bez', 'caur', 'dēļ', 'gar']\n"
     ]
    }
   ],
   "source": [
    "# stopword removal\n",
    "\n",
    "# we could remove stopwords using NLTK's stopword list\n",
    "# but that won't work for Latvian\n",
    "\n",
    "# import nltk\n",
    "\n",
    "# stopwords = nltk.corpus.stopwords.words('english')\n",
    "\n",
    "# let's use an existing Latvian stopword list from Github\n",
    "import requests\n",
    "\n",
    "stop_url = \"https://raw.githubusercontent.com/Xangis/extra-stopwords/master/latvian\"\n",
    "res = requests.get(stop_url)\n",
    "\n",
    "stopwords = res.text.split()\n",
    "\n",
    "stopword_set = set(stopwords)\n",
    "print(stopwords[:10])"
   ]
  },
  {
   "cell_type": "code",
   "execution_count": 48,
   "id": "c3f0eb47",
   "metadata": {},
   "outputs": [
    {
     "data": {
      "text/plain": [
       "['\"Viņa', 'pirmsnāves', 'zīmītē', 'rakstīts', 'vienīgi', 'smēķēšanas']"
      ]
     },
     "execution_count": 48,
     "metadata": {},
     "output_type": "execute_result"
    }
   ],
   "source": [
    "# removing stopwords\n",
    "all_text_stopped = [word for word in all_text if word not in stopword_set]\n",
    "\n",
    "# removing special characters\n",
    "spec_chars = ['-', '–', '—']\n",
    "all_text_stopped = [word for word in all_text_stopped if word not in spec_chars]\n",
    "\n",
    "all_text_stopped[:6]"
   ]
  },
  {
   "cell_type": "code",
   "execution_count": 59,
   "id": "11bce4b0",
   "metadata": {},
   "outputs": [
    {
     "name": "stdout",
     "output_type": "stream",
     "text": [
      "kas :\t 66805\n",
      "nav :\t 43423\n",
      "to :\t 35795\n",
      "Latvijas :\t 34333\n",
      "tas :\t 24280\n",
      "ko :\t 22641\n",
      "valsts :\t 21924\n",
      "gada :\t 21831\n",
      "vēl :\t 21245\n",
      "kad :\t 18995\n",
      "laikā :\t 17275\n",
      "savu :\t 17096\n",
      "ļoti :\t 15968\n",
      "kur :\t 15443\n",
      "varētu :\t 14747\n",
      "šo :\t 14635\n",
      "vairāk :\t 14379\n",
      "tās :\t 14320\n",
      "darba :\t 13734\n",
      "būtu :\t 13637\n"
     ]
    }
   ],
   "source": [
    "# let's draw freq distribution again\n",
    "\n",
    "all_fdist_stopped = FreqDist(all_text_stopped).most_common(20)\n",
    "all_fdist_stopped = pandas.Series(dict(all_fdist_stopped))\n",
    "\n",
    "for line in all_fdist_stopped.keys():\n",
    "    print(line, \":\\t\", all_fdist_stopped[line])"
   ]
  },
  {
   "cell_type": "code",
   "execution_count": 61,
   "id": "69f54863",
   "metadata": {},
   "outputs": [
    {
     "data": {
      "image/png": "[encoded data removed]",
      "text/plain": [
       "<Figure size 640x480 with 1 Axes>"
      ]
     },
     "metadata": {},
     "output_type": "display_data"
    }
   ],
   "source": [
    "all_plot = plt.bar(all_fdist_stopped.index, all_fdist_stopped.values)\n",
    "plt.xticks(rotation=60)"
   ]
  },
  {
   "cell_type": "markdown",
   "id": "c2f83291",
   "metadata": {},
   "source": [
    "**Seaborn** is a Python data visualization library based on matplotlib. It provides a high-level interface for drawing attractive and informative statistical graphics.\n"
   ]
  },
  {
   "cell_type": "code",
   "execution_count": 105,
   "id": "5f10341a",
   "metadata": {},
   "outputs": [
    {
     "data": {
      "image/png": "[encoded data removed]",
      "text/plain": [
       "<Figure size 640x480 with 1 Axes>"
      ]
     },
     "metadata": {},
     "output_type": "display_data"
    }
   ],
   "source": [
    "# Visualization using Searborn library\n",
    "\n",
    "data = FreqDist(all_text_stopped).most_common(20)\n",
    "data = pandas.DataFrame(data, columns = [\"Word\",\"Frequency\"])\n",
    "\n",
    "ax = sns.barplot(data, x=\"Word\", y=\"Frequency\")\n",
    "\n",
    "ax = ax.set_xticklabels(data[\"Word\"], rotation=60)"
   ]
  },
  {
   "cell_type": "code",
   "execution_count": null,
   "id": "7ff17da8",
   "metadata": {},
   "outputs": [],
   "source": [
    "# draw a horizontal bar chart in seaborn\n"
   ]
  },
  {
   "cell_type": "code",
   "execution_count": 107,
   "id": "f9a36b4f",
   "metadata": {},
   "outputs": [
    {
     "ename": "SyntaxError",
     "evalue": "invalid syntax (636684527.py, line 1)",
     "output_type": "error",
     "traceback": [
      "\u001b[0;36m  Cell \u001b[0;32mIn[107], line 1\u001b[0;36m\u001b[0m\n\u001b[0;31m    ToDo:\u001b[0m\n\u001b[0m         ^\u001b[0m\n\u001b[0;31mSyntaxError\u001b[0m\u001b[0;31m:\u001b[0m invalid syntax\n"
     ]
    }
   ],
   "source": [
    "ToDo:\n",
    "\n",
    "* create a separate notebook for matplotlib\n",
    "* add collocations\n",
    "* add WordCloud\n"
   ]
  },
  {
   "cell_type": "code",
   "execution_count": null,
   "id": "090ff63a",
   "metadata": {},
   "outputs": [],
   "source": []
  }
 ],
 "metadata": {
  "colab": {
   "name": "Reading_Data.ipynb",
   "provenance": []
  },
  "kernelspec": {
   "display_name": "Python 3 (ipykernel)",
   "language": "python",
   "name": "python3"
  },
  "language_info": {
   "codemirror_mode": {
    "name": "ipython",
    "version": 3
   },
   "file_extension": ".py",
   "mimetype": "text/x-python",
   "name": "python",
   "nbconvert_exporter": "python",
   "pygments_lexer": "ipython3",
   "version": "3.9.16"
  }
 },
 "nbformat": 4,
 "nbformat_minor": 5
}
